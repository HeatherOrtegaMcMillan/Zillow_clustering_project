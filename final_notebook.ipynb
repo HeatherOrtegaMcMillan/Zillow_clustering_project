{
 "cells": [
  {
   "cell_type": "markdown",
   "id": "962a4606-126c-48a4-b65c-c0addc3db4e1",
   "metadata": {},
   "source": [
    "# Zillow Clustering Project\n",
    "# The Price is Right"
   ]
  },
  {
   "cell_type": "code",
   "execution_count": 1,
   "id": "ce1dd543-ce52-4ec2-b071-f4fd5031f3f2",
   "metadata": {},
   "outputs": [],
   "source": [
    "import pandas as pd\n",
    "import numpy as np\n",
    "\n",
    "# Vis tools\n",
    "import matplotlib.pyplot as plt\n",
    "import seaborn as sns\n",
    "\n",
    "# Custom Modules\n",
    "import wrangle as w\n",
    "import explore as ex\n",
    "import evaluate as ev\n",
    "\n",
    "\n",
    "# stats and modeling tools\n",
    "from sklearn.cluster import KMeans\n",
    "import scipy.stats as stats\n",
    "from sklearn.linear_model import LinearRegression, LassoLars, TweedieRegressor\n",
    "from sklearn.tree import DecisionTreeRegressor\n",
    "from sklearn.feature_selection import SelectKBest, f_regression, RFE\n",
    "from sklearn.preprocessing import MinMaxScaler, PolynomialFeatures\n",
    "from sklearn.metrics import mean_squared_error, r2_score\n",
    "\n",
    "# supress scientific notation\n",
    "np.set_printoptions(suppress=True)\n",
    "#allow for all columns to be displayed in large dataframes\n",
    "pd.set_option(\"display.max_columns\", None)\n",
    "\n",
    "# silence warnings\n",
    "import warnings\n",
    "warnings.filterwarnings(\"ignore\")"
   ]
  },
  {
   "cell_type": "code",
   "execution_count": 2,
   "id": "18fad860-e42d-460a-a7a0-7288641b2b0e",
   "metadata": {},
   "outputs": [
    {
     "data": {
      "text/html": [
       "<svg  width=\"275\" height=\"55\"><rect x=\"0\" y=\"0\" width=\"55\" height=\"55\" style=\"fill:#1277e1;stroke-width:2;stroke:rgb(255,255,255)\"/><rect x=\"55\" y=\"0\" width=\"55\" height=\"55\" style=\"fill:#f3ad35;stroke-width:2;stroke:rgb(255,255,255)\"/><rect x=\"110\" y=\"0\" width=\"55\" height=\"55\" style=\"fill:#0b449c;stroke-width:2;stroke:rgb(255,255,255)\"/><rect x=\"165\" y=\"0\" width=\"55\" height=\"55\" style=\"fill:#5289e4;stroke-width:2;stroke:rgb(255,255,255)\"/><rect x=\"220\" y=\"0\" width=\"55\" height=\"55\" style=\"fill:#c3eafb;stroke-width:2;stroke:rgb(255,255,255)\"/></svg>"
      ],
      "text/plain": [
       "[(0.07058823529411765, 0.4666666666666667, 0.8823529411764706),\n",
       " (0.9529411764705882, 0.6784313725490196, 0.20784313725490197),\n",
       " (0.043137254901960784, 0.26666666666666666, 0.611764705882353),\n",
       " (0.3215686274509804, 0.5372549019607843, 0.8941176470588236),\n",
       " (0.7647058823529411, 0.9176470588235294, 0.984313725490196)]"
      ]
     },
     "execution_count": 2,
     "metadata": {},
     "output_type": "execute_result"
    }
   ],
   "source": [
    "# set and use zillow color palette\n",
    "zpalette = ['#1277e1', '#f3ad35', '#0b449c', '#5289e4', '#c3eafb']\n",
    "sns.set_palette(zpalette)\n",
    "sns.color_palette()"
   ]
  },
  {
   "cell_type": "markdown",
   "id": "aacd651f-b87f-4f20-b193-19572d47f1c6",
   "metadata": {},
   "source": [
    "\n",
    "## Project Goals and Ideas\n",
    "### The Big Question: What is driving the errors in the Zestimates?\n",
    "\n",
    "For this project the target is `logerror`, Created an `abs_logerror` as target instead\n",
    "\n",
    "#### Goal: Identify Drivers of Error and Create model(s) that account for those drivers.\n",
    "\n",
    "#### Initial Thoughts\n",
    "- After only looking at size (bedroom count, bathroom count and square footage for the house itself) model was not great\n",
    "- Location is very important in real estate. As they say Location Location Location\n",
    "    - Use Latitude and Longitude to narrow down groups\n",
    "    - Create clusters of error based on location\n",
    "    - if that doesn't work, try to use location data and price to create neighborhood clusters  \n",
    "- Price per square foot is something lots of realtors use for comparing houses that aren't the same size \n",
    "    - Create engineered feature, `ppsqft` divide `taxvalue` / `calculatedfinishedsquarefeet` \n",
    "- Age of home is important when comparing houses, realtors will compare houses built before 1978, between 1798-2000 and post 2000\n",
    "    - Create engineered feature age, based on year built\n",
    "    - Create three bins\n",
    "- Related to size of home, homes typically get compared with other homes within a 400sqft variance. Possibility here to create size clusters based on `calculatedfinishedsquarefeet`, or `ppsft`, or `lotsize`"
   ]
  },
  {
   "cell_type": "markdown",
   "id": "556e7cf8-073d-4ddb-8d1c-5b93c7ae1cad",
   "metadata": {},
   "source": [
    "<hr style=\"border-top: 10px groove #1277e1; margin-top: 1px; margin-bottom: 1px\"></hr>\n",
    "\n",
    "## Get the Data and Overview\n",
    "- Shape of data\n",
    "- Number unique values\n",
    "- Distribution of values\n",
    "- Null Value exploration"
   ]
  },
  {
   "cell_type": "code",
   "execution_count": 3,
   "id": "70e1a7e2-ef4b-4c4b-958b-a0e8e8485642",
   "metadata": {},
   "outputs": [],
   "source": [
    "# get zillow data with function in wrangle\n",
    "df = w.get_zillow_data()"
   ]
  },
  {
   "cell_type": "code",
   "execution_count": 4,
   "id": "5d25f978-62a5-4a19-b825-9c93f3f91157",
   "metadata": {},
   "outputs": [
    {
     "data": {
      "text/plain": [
       "(77380, 46)"
      ]
     },
     "execution_count": 4,
     "metadata": {},
     "output_type": "execute_result"
    }
   ],
   "source": [
    "# have a total of 77380 rows 46 columns\n",
    "df.shape"
   ]
  },
  {
   "cell_type": "code",
   "execution_count": 5,
   "id": "01be82c7-3a50-4d50-8a10-90ad31f7d850",
   "metadata": {},
   "outputs": [
    {
     "name": "stdout",
     "output_type": "stream",
     "text": [
      "<class 'pandas.core.frame.DataFrame'>\n",
      "Int64Index: 77380 entries, 0 to 77379\n",
      "Data columns (total 46 columns):\n",
      " #   Column                        Non-Null Count  Dtype  \n",
      "---  ------                        --------------  -----  \n",
      " 0   parcelid                      77380 non-null  int64  \n",
      " 1   airconditioningtypeid         24953 non-null  float64\n",
      " 2   airconditioningdesc           24953 non-null  object \n",
      " 3   architecturalstyletypeid      206 non-null    float64\n",
      " 4   architecturalstyledesc        206 non-null    object \n",
      " 5   bathroomcnt                   77380 non-null  float64\n",
      " 6   bedroomcnt                    77380 non-null  float64\n",
      " 7   buildingclasstypeid           15 non-null     float64\n",
      " 8   buildingclassdesc             15 non-null     object \n",
      " 9   buildingqualitytypeid         49671 non-null  float64\n",
      " 10  decktypeid                    614 non-null    float64\n",
      " 11  calculatedfinishedsquarefeet  77184 non-null  float64\n",
      " 12  fips                          77380 non-null  float64\n",
      " 13  fireplacecnt                  8276 non-null   float64\n",
      " 14  fireplaceflag                 172 non-null    float64\n",
      " 15  garagecarcnt                  25474 non-null  float64\n",
      " 16  garagetotalsqft               25474 non-null  float64\n",
      " 17  hashottuborspa                1538 non-null   float64\n",
      " 18  latitude                      77380 non-null  float64\n",
      " 19  longitude                     77380 non-null  float64\n",
      " 20  lotsizesquarefeet             69141 non-null  float64\n",
      " 21  poolcnt                       16137 non-null  float64\n",
      " 22  poolsizesum                   867 non-null    float64\n",
      " 23  propertycountylandusecode     77380 non-null  object \n",
      " 24  propertylandusetypeid         77380 non-null  float64\n",
      " 25  propertylandusedesc           77380 non-null  object \n",
      " 26  propertyzoningdesc            50330 non-null  object \n",
      " 27  rawcensustractandblock        77380 non-null  float64\n",
      " 28  regionidcity                  75909 non-null  float64\n",
      " 29  regionidcounty                77380 non-null  float64\n",
      " 30  regionidneighborhood          30890 non-null  float64\n",
      " 31  roomcnt                       77380 non-null  float64\n",
      " 32  threequarterbathnbr           10096 non-null  float64\n",
      " 33  typeconstructiontypeid        222 non-null    float64\n",
      " 34  typeconstructiondesc          222 non-null    object \n",
      " 35  unitcnt                       50562 non-null  float64\n",
      " 36  yearbuilt                     77117 non-null  float64\n",
      " 37  numberofstories               17560 non-null  float64\n",
      " 38  structuretaxvaluedollarcnt    77268 non-null  float64\n",
      " 39  taxvaluedollarcnt             77379 non-null  float64\n",
      " 40  assessmentyear                77380 non-null  float64\n",
      " 41  landtaxvaluedollarcnt         77378 non-null  float64\n",
      " 42  taxamount                     77375 non-null  float64\n",
      " 43  censustractandblock           77136 non-null  float64\n",
      " 44  logerror                      77380 non-null  float64\n",
      " 45  transactiondate               77380 non-null  object \n",
      "dtypes: float64(37), int64(1), object(8)\n",
      "memory usage: 27.7+ MB\n"
     ]
    }
   ],
   "source": [
    "# see the names and types of all columns\n",
    "# Lots of Nulls to deal with\n",
    "# might need to do some splitting up vx object, float and int\n",
    "df.info()"
   ]
  },
  {
   "cell_type": "code",
   "execution_count": 6,
   "id": "5f3e15c6-2f23-4f4b-b1fb-40416b5831ed",
   "metadata": {},
   "outputs": [
    {
     "name": "stdout",
     "output_type": "stream",
     "text": [
      "============== parcelid ==============\n",
      "# Unique Vals: 77380\n",
      "\n",
      "============== airconditioningtypeid ==============\n",
      "# Unique Vals: 5\n",
      "1.0     23133\n",
      "5.0       167\n",
      "9.0        26\n",
      "11.0       53\n",
      "13.0     1574\n",
      "NaN     52427\n",
      "Name: airconditioningtypeid, dtype: int64\n",
      "\n",
      "============== airconditioningdesc ==============\n",
      "# Unique Vals: 5\n",
      "Central          23133\n",
      "None               167\n",
      "Refrigeration       26\n",
      "Wall Unit           53\n",
      "Yes               1574\n",
      "NaN              52427\n",
      "Name: airconditioningdesc, dtype: int64\n",
      "\n",
      "============== architecturalstyletypeid ==============\n",
      "# Unique Vals: 5\n",
      "2.0         5\n",
      "3.0         3\n",
      "7.0       172\n",
      "8.0        19\n",
      "21.0        7\n",
      "NaN     77174\n",
      "Name: architecturalstyletypeid, dtype: int64\n",
      "\n",
      "============== architecturalstyledesc ==============\n",
      "# Unique Vals: 5\n",
      "Bungalow             5\n",
      "Cape Cod             3\n",
      "Contemporary       172\n",
      "Conventional        19\n",
      "Ranch/Rambler        7\n",
      "NaN              77174\n",
      "Name: architecturalstyledesc, dtype: int64\n",
      "\n",
      "============== bathroomcnt ==============\n",
      "# Unique Vals: 22\n",
      "(-0.019, 1.8]    14909\n",
      "(1.8, 3.6]       56435\n",
      "(3.6, 5.4]        5073\n",
      "(5.4, 7.2]         801\n",
      "(7.2, 9.0]         150\n",
      "(9.0, 10.8]          7\n",
      "(10.8, 12.6]         3\n",
      "(12.6, 14.4]         1\n",
      "(14.4, 16.2]         0\n",
      "(16.2, 18.0]         1\n",
      "Name: bathroomcnt, dtype: int64\n",
      "\n",
      "============== bedroomcnt ==============\n",
      "# Unique Vals: 16\n",
      "(-0.017, 1.6]     4209\n",
      "(1.6, 3.2]       49530\n",
      "(3.2, 4.8]       17513\n",
      "(4.8, 6.4]        5541\n",
      "(6.4, 8.0]         460\n",
      "(8.0, 9.6]          70\n",
      "(9.6, 11.2]         39\n",
      "(11.2, 12.8]        14\n",
      "(12.8, 14.4]         3\n",
      "(14.4, 16.0]         1\n",
      "Name: bedroomcnt, dtype: int64\n",
      "\n",
      "============== buildingclasstypeid ==============\n",
      "# Unique Vals: 2\n",
      "3.0        1\n",
      "4.0       14\n",
      "NaN    77365\n",
      "Name: buildingclasstypeid, dtype: int64\n",
      "\n",
      "============== buildingclassdesc ==============\n",
      "# Unique Vals: 2\n",
      "Buildings having exterior walls built of a non-combustible material such as brick, concrete, block or poured concrete. Interior partitions and roof structures are built of combustible materials. Floor may be concrete or wood frame.        1\n",
      "Buildings having wood or wood and steel frames                                                                                                                                                                                                14\n",
      "NaN                                                                                                                                                                                                                                        77365\n",
      "Name: buildingclassdesc, dtype: int64\n",
      "\n",
      "============== buildingqualitytypeid ==============\n",
      "# Unique Vals: 12\n",
      "(0.988, 2.1]       35\n",
      "(2.1, 3.2]        329\n",
      "(3.2, 4.3]       9482\n",
      "(4.3, 5.4]       2088\n",
      "(5.4, 6.5]      13462\n",
      "(6.5, 7.6]       5971\n",
      "(7.6, 8.7]      14645\n",
      "(8.7, 9.8]       2299\n",
      "(9.8, 10.9]       313\n",
      "(10.9, 12.0]     1047\n",
      "Name: buildingqualitytypeid, dtype: int64\n",
      "\n",
      "============== decktypeid ==============\n",
      "# Unique Vals: 1\n",
      "66.0      614\n",
      "NaN     76766\n",
      "Name: decktypeid, dtype: int64\n",
      "\n",
      "============== calculatedfinishedsquarefeet ==============\n",
      "# Unique Vals: 4972\n",
      "\n",
      "============== fips ==============\n",
      "# Unique Vals: 3\n",
      "6037.0    50550\n",
      "6059.0    20593\n",
      "6111.0     6237\n",
      "Name: fips, dtype: int64\n",
      "\n",
      "============== fireplacecnt ==============\n",
      "# Unique Vals: 5\n",
      "1.0     7008\n",
      "2.0      995\n",
      "3.0      235\n",
      "4.0       35\n",
      "5.0        3\n",
      "NaN    69104\n",
      "Name: fireplacecnt, dtype: int64\n",
      "\n",
      "============== fireplaceflag ==============\n",
      "# Unique Vals: 1\n",
      "1.0      172\n",
      "NaN    77208\n",
      "Name: fireplaceflag, dtype: int64\n",
      "\n",
      "============== garagecarcnt ==============\n",
      "# Unique Vals: 14\n",
      "(-0.015, 1.4]     5906\n",
      "(1.4, 2.8]       18608\n",
      "(2.8, 4.2]         887\n",
      "(4.2, 5.6]          45\n",
      "(5.6, 7.0]          18\n",
      "(7.0, 8.4]           2\n",
      "(8.4, 9.8]           2\n",
      "(9.8, 11.2]          4\n",
      "(11.2, 12.6]         0\n",
      "(12.6, 14.0]         2\n",
      "Name: garagecarcnt, dtype: int64\n",
      "\n",
      "============== garagetotalsqft ==============\n",
      "# Unique Vals: 839\n",
      "\n",
      "============== hashottuborspa ==============\n",
      "# Unique Vals: 1\n",
      "1.0     1538\n",
      "NaN    75842\n",
      "Name: hashottuborspa, dtype: int64\n",
      "\n",
      "============== latitude ==============\n",
      "# Unique Vals: 64037\n",
      "\n",
      "============== longitude ==============\n",
      "# Unique Vals: 62460\n",
      "\n",
      "============== lotsizesquarefeet ==============\n",
      "# Unique Vals: 18848\n",
      "\n",
      "============== poolcnt ==============\n",
      "# Unique Vals: 1\n",
      "1.0    16137\n",
      "NaN    61243\n",
      "Name: poolcnt, dtype: int64\n",
      "\n",
      "============== poolsizesum ==============\n",
      "# Unique Vals: 262\n",
      "\n",
      "============== propertycountylandusecode ==============\n",
      "# Unique Vals: 75\n",
      "\n",
      "============== propertylandusetypeid ==============\n",
      "# Unique Vals: 13\n",
      "(30.755, 55.4]       15\n",
      "(55.4, 79.8]          0\n",
      "(79.8, 104.2]         0\n",
      "(104.2, 128.6]        0\n",
      "(128.6, 153.0]        0\n",
      "(153.0, 177.4]        0\n",
      "(177.4, 201.8]        0\n",
      "(201.8, 226.2]        0\n",
      "(226.2, 250.6]     3271\n",
      "(250.6, 275.0]    74094\n",
      "Name: propertylandusetypeid, dtype: int64\n",
      "\n",
      "============== propertylandusedesc ==============\n",
      "# Unique Vals: 13\n",
      "\n",
      "============== propertyzoningdesc ==============\n",
      "# Unique Vals: 1907\n",
      "\n",
      "============== rawcensustractandblock ==============\n",
      "# Unique Vals: 39191\n",
      "\n",
      "============== regionidcity ==============\n",
      "# Unique Vals: 175\n",
      "\n",
      "============== regionidcounty ==============\n",
      "# Unique Vals: 3\n",
      "1286.0    20593\n",
      "2061.0     6237\n",
      "3101.0    50550\n",
      "Name: regionidcounty, dtype: int64\n",
      "\n",
      "============== regionidneighborhood ==============\n",
      "# Unique Vals: 480\n",
      "\n",
      "============== roomcnt ==============\n",
      "# Unique Vals: 16\n",
      "(-0.016, 1.5]    59808\n",
      "(1.5, 3.0]         226\n",
      "(3.0, 4.5]        1415\n",
      "(4.5, 6.0]        7529\n",
      "(6.0, 7.5]        3838\n",
      "(7.5, 9.0]        4065\n",
      "(9.0, 10.5]        339\n",
      "(10.5, 12.0]       143\n",
      "(12.0, 13.5]        10\n",
      "(13.5, 15.0]         7\n",
      "Name: roomcnt, dtype: int64\n",
      "\n",
      "============== threequarterbathnbr ==============\n",
      "# Unique Vals: 4\n",
      "1.0    10012\n",
      "2.0       75\n",
      "3.0        8\n",
      "7.0        1\n",
      "NaN    67284\n",
      "Name: threequarterbathnbr, dtype: int64\n",
      "\n",
      "============== typeconstructiontypeid ==============\n",
      "# Unique Vals: 4\n",
      "4.0         1\n",
      "6.0       219\n",
      "10.0        1\n",
      "13.0        1\n",
      "NaN     77158\n",
      "Name: typeconstructiontypeid, dtype: int64\n",
      "\n",
      "============== typeconstructiondesc ==============\n",
      "# Unique Vals: 4\n",
      "Concrete        1\n",
      "Frame         219\n",
      "Masonry         1\n",
      "Metal           1\n",
      "NaN         77158\n",
      "Name: typeconstructiondesc, dtype: int64\n",
      "\n",
      "============== unitcnt ==============\n",
      "# Unique Vals: 8\n",
      "1.0      47292\n",
      "2.0       2018\n",
      "3.0        525\n",
      "4.0        723\n",
      "6.0          1\n",
      "42.0         1\n",
      "45.0         1\n",
      "237.0        1\n",
      "NaN      26818\n",
      "Name: unitcnt, dtype: int64\n",
      "\n",
      "============== yearbuilt ==============\n",
      "# Unique Vals: 136\n",
      "(1823.807, 1843.2]        1\n",
      "(1843.2, 1862.4]          0\n",
      "(1862.4, 1881.6]          3\n",
      "(1881.6, 1900.8]         90\n",
      "(1900.8, 1920.0]       1743\n",
      "(1920.0, 1939.2]       6688\n",
      "(1939.2, 1958.4]      18463\n",
      "(1958.4, 1977.6]      20354\n",
      "(1977.6, 1996.8]      19097\n",
      "(1996.8, 2016.0]      10678\n",
      "Name: yearbuilt, dtype: int64\n",
      "\n",
      "============== numberofstories ==============\n",
      "# Unique Vals: 4\n",
      "1.0    10366\n",
      "2.0     6757\n",
      "3.0      436\n",
      "6.0        1\n",
      "NaN    59820\n",
      "Name: numberofstories, dtype: int64\n",
      "\n",
      "============== structuretaxvaluedollarcnt ==============\n",
      "# Unique Vals: 50429\n",
      "\n",
      "============== taxvaluedollarcnt ==============\n",
      "# Unique Vals: 50948\n",
      "\n",
      "============== assessmentyear ==============\n",
      "# Unique Vals: 1\n",
      "2016.0    77380\n",
      "Name: assessmentyear, dtype: int64\n",
      "\n",
      "============== landtaxvaluedollarcnt ==============\n",
      "# Unique Vals: 51600\n",
      "\n",
      "============== taxamount ==============\n",
      "# Unique Vals: 73824\n",
      "\n",
      "============== censustractandblock ==============\n",
      "# Unique Vals: 39006\n",
      "\n",
      "============== logerror ==============\n",
      "# Unique Vals: 76836\n",
      "\n",
      "============== transactiondate ==============\n",
      "# Unique Vals: 264\n",
      "\n"
     ]
    }
   ],
   "source": [
    "# use overview function to see unique values and value counts\n",
    "w.overview(df)"
   ]
  },
  {
   "cell_type": "markdown",
   "id": "a7cd03d2-ecef-4c90-8365-f191cccca0e5",
   "metadata": {},
   "source": [
    "#### Takeaways from initial overview\n",
    "- not sure what roomcnt is and how it's different from bedrooms and bathrooms \n",
    "- three quarter bath seems redundant \n",
    "- most of the homes here are single family, still need to trim that down\n",
    "- there's someone who has a 14 car garage (maybe it's a quadruplex or something)\n",
    "- three houses have 5 fireplaces. Must be really cold there in Southern California\n",
    "- Date could be changed to a datetime object"
   ]
  },
  {
   "cell_type": "markdown",
   "id": "fcff339f-c844-4120-a26e-c47feb8ef0cf",
   "metadata": {},
   "source": [
    "<hr style=\"border-top: 10px groove #1277e1; margin-top: 1px; margin-bottom: 1px\"></hr>\n",
    "\n",
    "### Nulls and Outliers\n",
    "- See where they are and make decisions\n"
   ]
  },
  {
   "cell_type": "code",
   "execution_count": 7,
   "id": "033f1dee-cd7a-4831-9f41-88f91c40c015",
   "metadata": {},
   "outputs": [
    {
     "name": "stdout",
     "output_type": "stream",
     "text": [
      "Your selected dataframe has 46 columns.\n",
      "There are 31 columns that have missing values.\n"
     ]
    },
    {
     "data": {
      "text/html": [
       "<div>\n",
       "<style scoped>\n",
       "    .dataframe tbody tr th:only-of-type {\n",
       "        vertical-align: middle;\n",
       "    }\n",
       "\n",
       "    .dataframe tbody tr th {\n",
       "        vertical-align: top;\n",
       "    }\n",
       "\n",
       "    .dataframe thead th {\n",
       "        text-align: right;\n",
       "    }\n",
       "</style>\n",
       "<table border=\"1\" class=\"dataframe\">\n",
       "  <thead>\n",
       "    <tr style=\"text-align: right;\">\n",
       "      <th></th>\n",
       "      <th>Missing Values</th>\n",
       "      <th>% of Total Values</th>\n",
       "    </tr>\n",
       "  </thead>\n",
       "  <tbody>\n",
       "    <tr>\n",
       "      <th>buildingclasstypeid</th>\n",
       "      <td>77365</td>\n",
       "      <td>100.0</td>\n",
       "    </tr>\n",
       "    <tr>\n",
       "      <th>buildingclassdesc</th>\n",
       "      <td>77365</td>\n",
       "      <td>100.0</td>\n",
       "    </tr>\n",
       "    <tr>\n",
       "      <th>fireplaceflag</th>\n",
       "      <td>77208</td>\n",
       "      <td>99.8</td>\n",
       "    </tr>\n",
       "    <tr>\n",
       "      <th>architecturalstyletypeid</th>\n",
       "      <td>77174</td>\n",
       "      <td>99.7</td>\n",
       "    </tr>\n",
       "    <tr>\n",
       "      <th>architecturalstyledesc</th>\n",
       "      <td>77174</td>\n",
       "      <td>99.7</td>\n",
       "    </tr>\n",
       "    <tr>\n",
       "      <th>typeconstructiondesc</th>\n",
       "      <td>77158</td>\n",
       "      <td>99.7</td>\n",
       "    </tr>\n",
       "    <tr>\n",
       "      <th>typeconstructiontypeid</th>\n",
       "      <td>77158</td>\n",
       "      <td>99.7</td>\n",
       "    </tr>\n",
       "    <tr>\n",
       "      <th>decktypeid</th>\n",
       "      <td>76766</td>\n",
       "      <td>99.2</td>\n",
       "    </tr>\n",
       "    <tr>\n",
       "      <th>poolsizesum</th>\n",
       "      <td>76513</td>\n",
       "      <td>98.9</td>\n",
       "    </tr>\n",
       "    <tr>\n",
       "      <th>hashottuborspa</th>\n",
       "      <td>75842</td>\n",
       "      <td>98.0</td>\n",
       "    </tr>\n",
       "    <tr>\n",
       "      <th>fireplacecnt</th>\n",
       "      <td>69104</td>\n",
       "      <td>89.3</td>\n",
       "    </tr>\n",
       "    <tr>\n",
       "      <th>threequarterbathnbr</th>\n",
       "      <td>67284</td>\n",
       "      <td>87.0</td>\n",
       "    </tr>\n",
       "    <tr>\n",
       "      <th>poolcnt</th>\n",
       "      <td>61243</td>\n",
       "      <td>79.1</td>\n",
       "    </tr>\n",
       "    <tr>\n",
       "      <th>numberofstories</th>\n",
       "      <td>59820</td>\n",
       "      <td>77.3</td>\n",
       "    </tr>\n",
       "    <tr>\n",
       "      <th>airconditioningdesc</th>\n",
       "      <td>52427</td>\n",
       "      <td>67.8</td>\n",
       "    </tr>\n",
       "    <tr>\n",
       "      <th>airconditioningtypeid</th>\n",
       "      <td>52427</td>\n",
       "      <td>67.8</td>\n",
       "    </tr>\n",
       "    <tr>\n",
       "      <th>garagetotalsqft</th>\n",
       "      <td>51906</td>\n",
       "      <td>67.1</td>\n",
       "    </tr>\n",
       "    <tr>\n",
       "      <th>garagecarcnt</th>\n",
       "      <td>51906</td>\n",
       "      <td>67.1</td>\n",
       "    </tr>\n",
       "    <tr>\n",
       "      <th>regionidneighborhood</th>\n",
       "      <td>46490</td>\n",
       "      <td>60.1</td>\n",
       "    </tr>\n",
       "    <tr>\n",
       "      <th>buildingqualitytypeid</th>\n",
       "      <td>27709</td>\n",
       "      <td>35.8</td>\n",
       "    </tr>\n",
       "    <tr>\n",
       "      <th>propertyzoningdesc</th>\n",
       "      <td>27050</td>\n",
       "      <td>35.0</td>\n",
       "    </tr>\n",
       "    <tr>\n",
       "      <th>unitcnt</th>\n",
       "      <td>26818</td>\n",
       "      <td>34.7</td>\n",
       "    </tr>\n",
       "    <tr>\n",
       "      <th>lotsizesquarefeet</th>\n",
       "      <td>8239</td>\n",
       "      <td>10.6</td>\n",
       "    </tr>\n",
       "    <tr>\n",
       "      <th>regionidcity</th>\n",
       "      <td>1471</td>\n",
       "      <td>1.9</td>\n",
       "    </tr>\n",
       "    <tr>\n",
       "      <th>yearbuilt</th>\n",
       "      <td>263</td>\n",
       "      <td>0.3</td>\n",
       "    </tr>\n",
       "    <tr>\n",
       "      <th>censustractandblock</th>\n",
       "      <td>244</td>\n",
       "      <td>0.3</td>\n",
       "    </tr>\n",
       "    <tr>\n",
       "      <th>calculatedfinishedsquarefeet</th>\n",
       "      <td>196</td>\n",
       "      <td>0.3</td>\n",
       "    </tr>\n",
       "    <tr>\n",
       "      <th>structuretaxvaluedollarcnt</th>\n",
       "      <td>112</td>\n",
       "      <td>0.1</td>\n",
       "    </tr>\n",
       "    <tr>\n",
       "      <th>taxamount</th>\n",
       "      <td>5</td>\n",
       "      <td>0.0</td>\n",
       "    </tr>\n",
       "    <tr>\n",
       "      <th>landtaxvaluedollarcnt</th>\n",
       "      <td>2</td>\n",
       "      <td>0.0</td>\n",
       "    </tr>\n",
       "    <tr>\n",
       "      <th>taxvaluedollarcnt</th>\n",
       "      <td>1</td>\n",
       "      <td>0.0</td>\n",
       "    </tr>\n",
       "  </tbody>\n",
       "</table>\n",
       "</div>"
      ],
      "text/plain": [
       "                              Missing Values  % of Total Values\n",
       "buildingclasstypeid                    77365              100.0\n",
       "buildingclassdesc                      77365              100.0\n",
       "fireplaceflag                          77208               99.8\n",
       "architecturalstyletypeid               77174               99.7\n",
       "architecturalstyledesc                 77174               99.7\n",
       "typeconstructiondesc                   77158               99.7\n",
       "typeconstructiontypeid                 77158               99.7\n",
       "decktypeid                             76766               99.2\n",
       "poolsizesum                            76513               98.9\n",
       "hashottuborspa                         75842               98.0\n",
       "fireplacecnt                           69104               89.3\n",
       "threequarterbathnbr                    67284               87.0\n",
       "poolcnt                                61243               79.1\n",
       "numberofstories                        59820               77.3\n",
       "airconditioningdesc                    52427               67.8\n",
       "airconditioningtypeid                  52427               67.8\n",
       "garagetotalsqft                        51906               67.1\n",
       "garagecarcnt                           51906               67.1\n",
       "regionidneighborhood                   46490               60.1\n",
       "buildingqualitytypeid                  27709               35.8\n",
       "propertyzoningdesc                     27050               35.0\n",
       "unitcnt                                26818               34.7\n",
       "lotsizesquarefeet                       8239               10.6\n",
       "regionidcity                            1471                1.9\n",
       "yearbuilt                                263                0.3\n",
       "censustractandblock                      244                0.3\n",
       "calculatedfinishedsquarefeet             196                0.3\n",
       "structuretaxvaluedollarcnt               112                0.1\n",
       "taxamount                                  5                0.0\n",
       "landtaxvaluedollarcnt                      2                0.0\n",
       "taxvaluedollarcnt                          1                0.0"
      ]
     },
     "execution_count": 7,
     "metadata": {},
     "output_type": "execute_result"
    }
   ],
   "source": [
    "w.missing_values_table(df)"
   ]
  },
  {
   "cell_type": "code",
   "execution_count": 8,
   "id": "7f3849f9-0e77-4a9b-bb65-e9240cda2fd2",
   "metadata": {},
   "outputs": [
    {
     "data": {
      "text/html": [
       "<div>\n",
       "<style scoped>\n",
       "    .dataframe tbody tr th:only-of-type {\n",
       "        vertical-align: middle;\n",
       "    }\n",
       "\n",
       "    .dataframe tbody tr th {\n",
       "        vertical-align: top;\n",
       "    }\n",
       "\n",
       "    .dataframe thead th {\n",
       "        text-align: right;\n",
       "    }\n",
       "</style>\n",
       "<table border=\"1\" class=\"dataframe\">\n",
       "  <thead>\n",
       "    <tr style=\"text-align: right;\">\n",
       "      <th></th>\n",
       "      <th>num_cols_missing</th>\n",
       "      <th>percent_cols_missing</th>\n",
       "      <th>num_rows</th>\n",
       "    </tr>\n",
       "  </thead>\n",
       "  <tbody>\n",
       "    <tr>\n",
       "      <th>0</th>\n",
       "      <td>9</td>\n",
       "      <td>19.57</td>\n",
       "      <td>2</td>\n",
       "    </tr>\n",
       "    <tr>\n",
       "      <th>1</th>\n",
       "      <td>10</td>\n",
       "      <td>21.74</td>\n",
       "      <td>10</td>\n",
       "    </tr>\n",
       "    <tr>\n",
       "      <th>2</th>\n",
       "      <td>11</td>\n",
       "      <td>23.91</td>\n",
       "      <td>23</td>\n",
       "    </tr>\n",
       "    <tr>\n",
       "      <th>3</th>\n",
       "      <td>12</td>\n",
       "      <td>26.09</td>\n",
       "      <td>62</td>\n",
       "    </tr>\n",
       "    <tr>\n",
       "      <th>4</th>\n",
       "      <td>13</td>\n",
       "      <td>28.26</td>\n",
       "      <td>114</td>\n",
       "    </tr>\n",
       "    <tr>\n",
       "      <th>5</th>\n",
       "      <td>14</td>\n",
       "      <td>30.43</td>\n",
       "      <td>416</td>\n",
       "    </tr>\n",
       "    <tr>\n",
       "      <th>6</th>\n",
       "      <td>15</td>\n",
       "      <td>32.61</td>\n",
       "      <td>5577</td>\n",
       "    </tr>\n",
       "    <tr>\n",
       "      <th>7</th>\n",
       "      <td>16</td>\n",
       "      <td>34.78</td>\n",
       "      <td>10549</td>\n",
       "    </tr>\n",
       "    <tr>\n",
       "      <th>8</th>\n",
       "      <td>17</td>\n",
       "      <td>36.96</td>\n",
       "      <td>14385</td>\n",
       "    </tr>\n",
       "    <tr>\n",
       "      <th>9</th>\n",
       "      <td>18</td>\n",
       "      <td>39.13</td>\n",
       "      <td>21032</td>\n",
       "    </tr>\n",
       "    <tr>\n",
       "      <th>10</th>\n",
       "      <td>19</td>\n",
       "      <td>41.3</td>\n",
       "      <td>18022</td>\n",
       "    </tr>\n",
       "    <tr>\n",
       "      <th>11</th>\n",
       "      <td>20</td>\n",
       "      <td>43.48</td>\n",
       "      <td>4283</td>\n",
       "    </tr>\n",
       "    <tr>\n",
       "      <th>12</th>\n",
       "      <td>21</td>\n",
       "      <td>45.65</td>\n",
       "      <td>2110</td>\n",
       "    </tr>\n",
       "    <tr>\n",
       "      <th>13</th>\n",
       "      <td>22</td>\n",
       "      <td>47.83</td>\n",
       "      <td>438</td>\n",
       "    </tr>\n",
       "    <tr>\n",
       "      <th>14</th>\n",
       "      <td>23</td>\n",
       "      <td>50.0</td>\n",
       "      <td>211</td>\n",
       "    </tr>\n",
       "    <tr>\n",
       "      <th>15</th>\n",
       "      <td>24</td>\n",
       "      <td>52.17</td>\n",
       "      <td>84</td>\n",
       "    </tr>\n",
       "    <tr>\n",
       "      <th>16</th>\n",
       "      <td>25</td>\n",
       "      <td>54.35</td>\n",
       "      <td>50</td>\n",
       "    </tr>\n",
       "    <tr>\n",
       "      <th>17</th>\n",
       "      <td>26</td>\n",
       "      <td>56.52</td>\n",
       "      <td>9</td>\n",
       "    </tr>\n",
       "    <tr>\n",
       "      <th>18</th>\n",
       "      <td>27</td>\n",
       "      <td>58.7</td>\n",
       "      <td>2</td>\n",
       "    </tr>\n",
       "    <tr>\n",
       "      <th>19</th>\n",
       "      <td>28</td>\n",
       "      <td>60.87</td>\n",
       "      <td>1</td>\n",
       "    </tr>\n",
       "  </tbody>\n",
       "</table>\n",
       "</div>"
      ],
      "text/plain": [
       "   num_cols_missing percent_cols_missing  num_rows\n",
       "0                 9                19.57         2\n",
       "1                10                21.74        10\n",
       "2                11                23.91        23\n",
       "3                12                26.09        62\n",
       "4                13                28.26       114\n",
       "5                14                30.43       416\n",
       "6                15                32.61      5577\n",
       "7                16                34.78     10549\n",
       "8                17                36.96     14385\n",
       "9                18                39.13     21032\n",
       "10               19                 41.3     18022\n",
       "11               20                43.48      4283\n",
       "12               21                45.65      2110\n",
       "13               22                47.83       438\n",
       "14               23                 50.0       211\n",
       "15               24                52.17        84\n",
       "16               25                54.35        50\n",
       "17               26                56.52         9\n",
       "18               27                 58.7         2\n",
       "19               28                60.87         1"
      ]
     },
     "execution_count": 8,
     "metadata": {},
     "output_type": "execute_result"
    }
   ],
   "source": [
    "w.nulls_by_row(df)"
   ]
  },
  {
   "cell_type": "markdown",
   "id": "aa23a3ea-41b4-4552-a579-d6ebdad31889",
   "metadata": {},
   "source": [
    "#### Takeaways from NaNs\n",
    "- buildingclassdesc and buildingclasstypeid have too many missing, will drop\n",
    "- fireplaceflag seems to not have been used as much as fireplacecnt (drop fireplaceflag)\n",
    "- the architectural columns also don't have enough to go on, nothing to replace with\n",
    "- typeconstructiondesc and typeconstructiontypeid both don't have enough values (these are things like concrete, masonry)\n",
    "    - This could be interesting later down the road to classify luxury home\n",
    "- decktypeid, poolsizesum \n",
    "- numberofstories doesn't seem like something would be a driver of price \n",
    "\n",
    "Turned to 0s \n",
    "- hashottuborspa Nan's could be turned to 0s \n",
    "- fireplacecnt \n",
    "- garagecarcnt can have NaN's converted to 0s \n"
   ]
  },
  {
   "cell_type": "code",
   "execution_count": 9,
   "id": "6f365b52-e0ca-4b11-9b70-f5dd01e09a9b",
   "metadata": {},
   "outputs": [
    {
     "data": {
      "text/plain": [
       "(52429, 46)"
      ]
     },
     "execution_count": 9,
     "metadata": {},
     "output_type": "execute_result"
    }
   ],
   "source": [
    "# after filtering for single family homes there are now 52,429 data points to look at\n",
    "df = w.single_homes(df)\n",
    "df.shape"
   ]
  },
  {
   "cell_type": "code",
   "execution_count": 10,
   "id": "c1dcbbe4-12b2-43f0-8b55-8c710c4606c7",
   "metadata": {},
   "outputs": [],
   "source": [
    "# use my function to drop any rows that have more than 85% of the data missing, \n",
    "# and any columns that have more than 65% missing\n",
    "\n",
    "df = w.drop_missing(df)"
   ]
  },
  {
   "cell_type": "code",
   "execution_count": 11,
   "id": "81e2f7d5-7f62-488a-ac09-d8060fd68673",
   "metadata": {},
   "outputs": [
    {
     "name": "stdout",
     "output_type": "stream",
     "text": [
      "Your selected dataframe has 24 columns.\n",
      "There are 9 columns that have missing values.\n"
     ]
    },
    {
     "data": {
      "text/html": [
       "<div>\n",
       "<style scoped>\n",
       "    .dataframe tbody tr th:only-of-type {\n",
       "        vertical-align: middle;\n",
       "    }\n",
       "\n",
       "    .dataframe tbody tr th {\n",
       "        vertical-align: top;\n",
       "    }\n",
       "\n",
       "    .dataframe thead th {\n",
       "        text-align: right;\n",
       "    }\n",
       "</style>\n",
       "<table border=\"1\" class=\"dataframe\">\n",
       "  <thead>\n",
       "    <tr style=\"text-align: right;\">\n",
       "      <th></th>\n",
       "      <th>Missing Values</th>\n",
       "      <th>% of Total Values</th>\n",
       "    </tr>\n",
       "  </thead>\n",
       "  <tbody>\n",
       "    <tr>\n",
       "      <th>regionidcity</th>\n",
       "      <td>1033</td>\n",
       "      <td>2.0</td>\n",
       "    </tr>\n",
       "    <tr>\n",
       "      <th>lotsizesquarefeet</th>\n",
       "      <td>370</td>\n",
       "      <td>0.7</td>\n",
       "    </tr>\n",
       "    <tr>\n",
       "      <th>yearbuilt</th>\n",
       "      <td>130</td>\n",
       "      <td>0.2</td>\n",
       "    </tr>\n",
       "    <tr>\n",
       "      <th>censustractandblock</th>\n",
       "      <td>115</td>\n",
       "      <td>0.2</td>\n",
       "    </tr>\n",
       "    <tr>\n",
       "      <th>calculatedfinishedsquarefeet</th>\n",
       "      <td>98</td>\n",
       "      <td>0.2</td>\n",
       "    </tr>\n",
       "    <tr>\n",
       "      <th>structuretaxvaluedollarcnt</th>\n",
       "      <td>88</td>\n",
       "      <td>0.2</td>\n",
       "    </tr>\n",
       "    <tr>\n",
       "      <th>taxamount</th>\n",
       "      <td>4</td>\n",
       "      <td>0.0</td>\n",
       "    </tr>\n",
       "    <tr>\n",
       "      <th>landtaxvaluedollarcnt</th>\n",
       "      <td>2</td>\n",
       "      <td>0.0</td>\n",
       "    </tr>\n",
       "    <tr>\n",
       "      <th>taxvaluedollarcnt</th>\n",
       "      <td>1</td>\n",
       "      <td>0.0</td>\n",
       "    </tr>\n",
       "  </tbody>\n",
       "</table>\n",
       "</div>"
      ],
      "text/plain": [
       "                              Missing Values  % of Total Values\n",
       "regionidcity                            1033                2.0\n",
       "lotsizesquarefeet                        370                0.7\n",
       "yearbuilt                                130                0.2\n",
       "censustractandblock                      115                0.2\n",
       "calculatedfinishedsquarefeet              98                0.2\n",
       "structuretaxvaluedollarcnt                88                0.2\n",
       "taxamount                                  4                0.0\n",
       "landtaxvaluedollarcnt                      2                0.0\n",
       "taxvaluedollarcnt                          1                0.0"
      ]
     },
     "execution_count": 11,
     "metadata": {},
     "output_type": "execute_result"
    }
   ],
   "source": [
    "w.missing_values_table(df)"
   ]
  },
  {
   "cell_type": "markdown",
   "id": "1e6e250a-78eb-492f-a986-fd2a75dfcd04",
   "metadata": {},
   "source": [
    "### Nan Takeaways\n",
    "- Before just outright dropping either more rows, I will dive into feature engineering and dropping outliers to see if this takes care of some of these still missing values\n",
    "- Then can impute or drop columns all together (I might not need yearbuilt, or regionidcity)\n",
    "- Right now have 52,426 houses to look at "
   ]
  },
  {
   "cell_type": "markdown",
   "id": "15016152-9169-47b1-97d5-5bde6e7c74dc",
   "metadata": {},
   "source": [
    "## Feature Engineering \n",
    "- create `age` and `yearbuilt_bins`\n",
    "- create `ppsqft` \n",
    "- create `county` column from `fips`\n",
    "- create `taxrate`\n",
    "- create `abs_logerror` from `logerror`"
   ]
  },
  {
   "cell_type": "code",
   "execution_count": 12,
   "id": "f4ccaec6-917b-4dc9-8a90-05e88b2d518f",
   "metadata": {},
   "outputs": [],
   "source": [
    "# functions from wrangle script\n",
    "# get the age of the home\n",
    "df = w.get_house_age(df)\n",
    "\n",
    "# bins for year built\n",
    "df = w.yearbuilt_bins(df)\n",
    "\n",
    "# price per squarefoot\n",
    "df = w.ppsqft(df)\n",
    "\n",
    "# get county names \n",
    "df = w.cali_counties(df)\n",
    "\n",
    "# calculate the tax rate\n",
    "df = w.get_tax_rate(df)\n",
    "\n",
    "# calculate absolute logerror from logerror\n",
    "df = w.absolute_logerror(df)\n"
   ]
  },
  {
   "cell_type": "markdown",
   "id": "af69ee41-1385-41d0-8f08-4935605c7690",
   "metadata": {},
   "source": [
    "### Looking for outliers"
   ]
  },
  {
   "cell_type": "code",
   "execution_count": null,
   "id": "ed927855-dba5-4966-aebb-92bacb434408",
   "metadata": {},
   "outputs": [
    {
     "data": {
      "image/png": "[encoded data removed]",
      "text/plain": [
       "<Figure size 576x216 with 1 Axes>"
      ]
     },
     "metadata": {
      "needs_background": "light"
     },
     "output_type": "display_data"
    },
    {
     "data": {
      "image/png": "[encoded data removed]",
      "text/plain": [
       "<Figure size 576x216 with 1 Axes>"
      ]
     },
     "metadata": {
      "needs_background": "light"
     },
     "output_type": "display_data"
    },
    {
     "data": {
      "image/png": "[encoded data removed]",
      "text/plain": [
       "<Figure size 576x216 with 1 Axes>"
      ]
     },
     "metadata": {
      "needs_background": "light"
     },
     "output_type": "display_data"
    },
    {
     "data": {
      "image/png": "[encoded data removed]",
      "text/plain": [
       "<Figure size 576x216 with 1 Axes>"
      ]
     },
     "metadata": {
      "needs_background": "light"
     },
     "output_type": "display_data"
    },
    {
     "data": {
      "image/png": "[encoded data removed]",
      "text/plain": [
       "<Figure size 576x216 with 1 Axes>"
      ]
     },
     "metadata": {
      "needs_background": "light"
     },
     "output_type": "display_data"
    },
    {
     "data": {
      "image/png": "[encoded data removed]",
      "text/plain": [
       "<Figure size 576x216 with 1 Axes>"
      ]
     },
     "metadata": {
      "needs_background": "light"
     },
     "output_type": "display_data"
    },
    {
     "data": {
      "image/png": "[encoded data removed]",
      "text/plain": [
       "<Figure size 576x216 with 1 Axes>"
      ]
     },
     "metadata": {
      "needs_background": "light"
     },
     "output_type": "display_data"
    },
    {
     "name": "stdout",
     "output_type": "stream",
     "text": [
      "propertycountylandusecode is an object type\n"
     ]
    },
    {
     "data": {
      "image/png": "[encoded data removed]",
      "text/plain": [
       "<Figure size 576x216 with 1 Axes>"
      ]
     },
     "metadata": {
      "needs_background": "light"
     },
     "output_type": "display_data"
    }
   ],
   "source": [
    "# use function from explore drop parcelid and yearbuilt bins \n",
    "ex.plot_boxes(df.drop(columns = ['parcelid', 'yearbuilt_bins']), figsize = (8,3))"
   ]
  },
  {
   "cell_type": "markdown",
   "id": "7fda6495-3e9b-4ee6-b8d5-b1d4d98d4239",
   "metadata": {},
   "source": [
    "### Dealing with outliers\n",
    "For this project I dropped homes that had:\n",
    "   - A tax rate higher than 15%\n",
    "   - A bathroom count higher than 6 or lower than 1\n",
    "   - A bedroom count higher than 7 or lower than 1"
   ]
  },
  {
   "cell_type": "code",
   "execution_count": null,
   "id": "f7f88a2b-bc5a-42e5-8329-2233fcd09d72",
   "metadata": {},
   "outputs": [],
   "source": [
    "df = w.drop_zillow_outliers(df)"
   ]
  },
  {
   "cell_type": "markdown",
   "id": "a0039108-3e73-479e-8746-b44f0e41a8ef",
   "metadata": {},
   "source": [
    "### Dropping unneded columns \n",
    "- after feature engineering and dropping outliers decided to outright drop the following columns \n",
    "    - `lotsizesquarefeet`, `regionidcity`, `regionidcounty`, `assessmentyear`\n",
    "    - `regionidcounty` seems to be the same as `fips`, drop it because it's missing values\n",
    "    - `regionidcity` will drop because location data is captured in lat and long and there's nulls in regionidcity\n",
    "    - `assessmentyear` isn't of value for this purpose \n",
    "- Also dropped rows that had a NaN in a column that had only a few values missing\n",
    "    - ex. yearbuilt had only 32 NaNs Instead of dropping that entire column, at the very end I dropped those 32 rows instead. \n",
    "    - With more time I'd like to work on imputing these values"
   ]
  },
  {
   "cell_type": "code",
   "execution_count": null,
   "id": "5efefb92-5756-4ae2-9bbd-32dc16a0d136",
   "metadata": {},
   "outputs": [],
   "source": [
    "# all of the above was put into this function\n",
    "df = w.wrangle_zillow()"
   ]
  },
  {
   "cell_type": "code",
   "execution_count": null,
   "id": "87a127e9-4f9e-4c03-81b9-191404213770",
   "metadata": {},
   "outputs": [],
   "source": [
    "df.shape"
   ]
  },
  {
   "cell_type": "markdown",
   "id": "e109f426-838c-460e-b0f6-f82793efffb0",
   "metadata": {},
   "source": [
    "<hr style=\"border-top: 10px groove #1277e1; margin-top: 1px; margin-bottom: 1px\"></hr>\n",
    "\n",
    "## Explore\n",
    "\n",
    "- Split data\n",
    "- Goals explore and make clusters \n",
    "- Run stats tests\n"
   ]
  },
  {
   "cell_type": "code",
   "execution_count": null,
   "id": "b0728d66-90fd-44b6-b98e-045b44b283f3",
   "metadata": {},
   "outputs": [],
   "source": [
    "ex.plot_variable_dist(df.drop(columns = 'yearbuilt_bins'))"
   ]
  },
  {
   "cell_type": "code",
   "execution_count": null,
   "id": "70fba2ad-bb7f-4906-a390-81012ce05aed",
   "metadata": {},
   "outputs": [],
   "source": [
    "# Set up variables for exploration\n",
    "target = 'logerror'\n",
    "\n",
    "target2 = 'abs_logerror'\n",
    "\n",
    "variables = ['bathroomcnt',\n",
    "            'bedroomcnt',\n",
    "            'calculatedfinishedsquarefeet',\n",
    "            'ppsqft',\n",
    "            'latitude',\n",
    "            'longitude',\n",
    "            'roomcnt',\n",
    "            'structuretaxvaluedollarcnt',\n",
    "            'taxvaluedollarcnt',\n",
    "            'landtaxvaluedollarcnt',\n",
    "            'taxamount',\n",
    "            'age',\n",
    "            'tax_rate']"
   ]
  },
  {
   "cell_type": "code",
   "execution_count": null,
   "id": "55869853-666e-4ff1-bf60-4be2d22a7173",
   "metadata": {},
   "outputs": [],
   "source": [
    "# split into train validate and test\n",
    "train, validate, test = w.banana_split(df)"
   ]
  },
  {
   "cell_type": "code",
   "execution_count": null,
   "id": "cdbaece0-61da-4d2b-99df-14597e8135b1",
   "metadata": {},
   "outputs": [],
   "source": [
    "ex.plot_against_target(train, target, variables)"
   ]
  },
  {
   "cell_type": "markdown",
   "id": "1ba3cbc9-e55b-40b0-9b21-6d4b59c5269e",
   "metadata": {},
   "source": [
    "### Takeaways from plotting against target (logerror)\n",
    "- When taxrate is high, logerror is under guessing\n",
    "- when taxrate is low, more homes seem to be under guessed \n",
    "- Also not very much other info gleaned from this"
   ]
  },
  {
   "cell_type": "markdown",
   "id": "20e2279a-21c7-4dcc-9e5a-e2d04a86285c",
   "metadata": {},
   "source": [
    "### Absolute logerror\n",
    "- Here is where I decided to create this modified target \n",
    "- I initially did this to better comprehend what was going on with the data\n",
    "- I went back up to wrangle and did added a function to calculate the absolute value of the logerror\n",
    "- With more time I would like to go and create models based on logerror, maybe try to look at when it was high, and when it was low, when it was off by a certain amount.\n",
    "- However, for the scope of this project I am using absolute logerror as the target\n",
    "\n",
    "### Takeaways from using abs_logerror\n",
    "- a lot easier to see where the model is off\n",
    "- seems to be off more often and larger error when the homes are cheaper and smaller\n",
    "    - when it has 0 rooms (weird because there are way too many with a 0 in this category) \n",
    "        - will drop this column\n",
    "    - taxrate around 1% (majority of homes are there)\n",
    "    - when ppsqft is less than 1000 (specifically less than 500)\n",
    "    - when sqft is around 1500 peak of abs_logerror"
   ]
  },
  {
   "cell_type": "code",
   "execution_count": null,
   "id": "34227ad5-0399-4098-a69a-a24858fd28db",
   "metadata": {},
   "outputs": [],
   "source": [
    "ex.plot_against_target(train, target2 , variables)"
   ]
  },
  {
   "cell_type": "code",
   "execution_count": null,
   "id": "732b4feb-b1ce-456e-9249-f386d112c397",
   "metadata": {},
   "outputs": [],
   "source": [
    "# used small list of columns for pairplot in order to be able to see\n",
    "cols = ['age', 'latitude', 'longitude', 'ppsqft', 'logerror']\n",
    "\n",
    "# create pairplot\n",
    "\n",
    "sns.pairplot(data = train[cols], corner=True)\n",
    "plt.suptitle('Trying to find patterns with key variables and logerror', fontsize = 15)\n",
    "plt.show()"
   ]
  },
  {
   "cell_type": "markdown",
   "id": "f234073f-896b-4832-9315-4d934ab112d4",
   "metadata": {},
   "source": [
    "### Takeaways from pairplot\n",
    "- Something weird is going on with `age` and `logerror`\n",
    "- seems like on the lower end of value log error is high\n",
    "- Definitely need to cluster log error and lat and long\n",
    "- wider spread of error on homes under 4000 ish sqft\n",
    "- Weird errors all the way down on ppsqft and calculated finished sqft\n",
    "- Looking at the spread "
   ]
  },
  {
   "cell_type": "code",
   "execution_count": null,
   "id": "9c60492e-4221-47dc-8514-ceb2bc89471e",
   "metadata": {},
   "outputs": [],
   "source": [
    "cols = ['age', 'latitude', 'longitude', 'ppsqft', 'abs_logerror']\n",
    "\n",
    "sns.pairplot(data = train[cols], corner=True)\n",
    "\n",
    "plt.suptitle('Amount of error is to see with Absolute Logerror', fontsize = 15)\n",
    "\n",
    "plt.show()"
   ]
  },
  {
   "cell_type": "markdown",
   "id": "b217db51-89eb-439b-9306-8cf6cd0b461b",
   "metadata": {},
   "source": [
    "<hr style=\"border-top: 10px groove #1277e1; margin-top: 1px; margin-bottom: 1px\"></hr>\n",
    "\n",
    "## Clustering \n",
    "- Create clusters using lat long and ppsqft \n",
    "- Try lat long and age\n",
    "- Try age and ppsqft \n",
    "- Maybe try all 4"
   ]
  },
  {
   "cell_type": "markdown",
   "id": "fe9856a7-8e00-4f90-a657-ba241fca3ff1",
   "metadata": {},
   "source": [
    "#### Cluster 1 (age, latitude, longitude, k = 4)"
   ]
  },
  {
   "cell_type": "code",
   "execution_count": null,
   "id": "c0bca447-3a87-44a1-871c-4c5c5af21402",
   "metadata": {},
   "outputs": [],
   "source": [
    "# set up columns for cluster\n",
    "X_train = train[['age', 'latitude', 'longitude']]\n",
    "# scale columns\n",
    "X_train_scaled, mm_scaler = ex.scale_this(X_train, MinMaxScaler())"
   ]
  },
  {
   "cell_type": "code",
   "execution_count": null,
   "id": "82e81048-4148-425c-961a-1549627a1dfd",
   "metadata": {},
   "outputs": [],
   "source": [
    "X_train_scaled.head()"
   ]
  },
  {
   "cell_type": "code",
   "execution_count": null,
   "id": "fd0e7fe2-ba0b-402e-9bcb-15a84f5d7d87",
   "metadata": {},
   "outputs": [],
   "source": [
    "# create kMeans \n",
    "X_train_scaled, centroids_scaled, kmeans = ex.makin_clusters(X_train_scaled, 4)"
   ]
  },
  {
   "cell_type": "code",
   "execution_count": null,
   "id": "f939e7f0-dd25-40b1-aa98-ec8791172d8e",
   "metadata": {},
   "outputs": [],
   "source": [
    "ex.plot_clusters('age', 'longitude', 'clusters', X_train_scaled, kmeans, mm_scaler, centroids_scaled)\n",
    "plt.title('4 Clusters with Location and Age')\n",
    "plt.show()"
   ]
  },
  {
   "cell_type": "markdown",
   "id": "9bcd973c-f130-47f6-8efd-61003bf3e6ec",
   "metadata": {},
   "source": [
    "### At first glance:\n",
    "- My human eyes can't see anything with only plotting the two variables\n",
    "- Will take a look at inertia to see if I can pick a better number for K"
   ]
  },
  {
   "cell_type": "code",
   "execution_count": null,
   "id": "ed641ab0-4032-4292-9f20-8f01c76f3e14",
   "metadata": {},
   "outputs": [],
   "source": [
    "ex.plot_inertia(X_train_scaled)"
   ]
  },
  {
   "cell_type": "markdown",
   "id": "ea4fc3ec-5289-4f33-abc2-147bb6831689",
   "metadata": {},
   "source": [
    "### Takeaways Inertia\n",
    "- With the clusters created from latitude, longitude and home age, 4 5 or 6 would seem to work the best. \n",
    "- Will try with 5 clusters\n",
    "\n",
    "#### Clusters 2, (age, latitude, longitude, k = 5)"
   ]
  },
  {
   "cell_type": "code",
   "execution_count": null,
   "id": "b24a9aa0-8e23-448c-81d8-f97584cca696",
   "metadata": {},
   "outputs": [],
   "source": [
    "X_train_scaled, centroids_scaled, kmean = ex.makin_clusters(X_train_scaled, 5)"
   ]
  },
  {
   "cell_type": "code",
   "execution_count": null,
   "id": "2c9ca330-be6a-4118-9618-aaa88a928008",
   "metadata": {},
   "outputs": [],
   "source": [
    "ex.plot_clusters('age', 'latitude', 'clusters', X_train_scaled, kmeans, mm_scaler, centroids_scaled)\n",
    "\n",
    "plt.title(\"5 Clusters with Location and Age\")\n",
    "plt.show()"
   ]
  },
  {
   "cell_type": "markdown",
   "id": "e04d0358-a3f2-4fd8-a7e2-f37c32c37f31",
   "metadata": {},
   "source": [
    "### Takeaways from age location cluster\n",
    "- not sure if would have value in a model \n",
    "- hard to visualize from the graphs here\n",
    "- Boxplot below doesn't indicate much either\n",
    "    - There might be some value in cluster 4"
   ]
  },
  {
   "cell_type": "code",
   "execution_count": null,
   "id": "34c73260-fdf7-479e-999c-5c5d5c6bfcf7",
   "metadata": {},
   "outputs": [],
   "source": [
    "plt.figure(figsize = (16,4))\n",
    "sns.boxplot(y = train['abs_logerror'], x = X_train_scaled['clusters'])\n",
    "\n",
    "plt.title('Age and location Clusters vs Absolute logerror', fontsize=15)\n",
    "plt.show()"
   ]
  },
  {
   "cell_type": "markdown",
   "id": "5dcda2f7-30ba-474a-813e-6818682dd5ee",
   "metadata": {},
   "source": [
    "### Cluster 3 (latitude, longitude, ppsqft, k = TBD by inertia) \n",
    "- the Location Price cluster is what I ended up using as a feature in my model, \n",
    "- Here's how it was created"
   ]
  },
  {
   "cell_type": "code",
   "execution_count": null,
   "id": "0fb10f6f-2720-422b-85aa-5893e28cc623",
   "metadata": {},
   "outputs": [],
   "source": [
    "# create new X_train to try with lat long and ppsqft cluster\n",
    "X_train = train[['latitude', 'longitude', 'ppsqft']]"
   ]
  },
  {
   "cell_type": "code",
   "execution_count": null,
   "id": "423fff53-d585-4ad3-8454-05fc808e82df",
   "metadata": {},
   "outputs": [],
   "source": [
    "# scale using minmax\n",
    "X_train_scaled, mm_scaler = ex.scale_this(X_train, MinMaxScaler())"
   ]
  },
  {
   "cell_type": "code",
   "execution_count": null,
   "id": "b5b88885-8396-4395-aa69-2c9dda05b3eb",
   "metadata": {},
   "outputs": [],
   "source": [
    "# explore inertia to see where to start\n",
    "ex.plot_inertia(X_train_scaled, k_range_end=18)"
   ]
  },
  {
   "cell_type": "markdown",
   "id": "3790da4f-4781-4485-83c0-ce0a237785c8",
   "metadata": {},
   "source": [
    "### Takeaways from Inertia \n",
    "- With latitude, longitude and ppsqft as variables, will go with 8 clusters \n",
    "- I would prefer more clusters but using the elbow method here 8 seems to be the point where inertia decreases but doesn't give us as much value \n",
    "- This to me is simulating neighborhood creation (obviously there are many more neighborhoods in reality than 8) "
   ]
  },
  {
   "cell_type": "code",
   "execution_count": null,
   "id": "2d64eb2b-e317-4cdf-978b-0722636ebce3",
   "metadata": {},
   "outputs": [],
   "source": [
    "# create cluster with n = 8\n",
    "X_train_scaled, centroids_scaled, kmeans = ex.makin_clusters(X_train_scaled, 8)"
   ]
  },
  {
   "cell_type": "code",
   "execution_count": null,
   "id": "9b7f04ff-6d11-4655-81c4-9a377406bbe1",
   "metadata": {},
   "outputs": [],
   "source": [
    "ex.plot_clusters('latitude', 'longitude', 'clusters', X_train_scaled, kmeans, mm_scaler, centroids_scaled)\n",
    "\n",
    "plt.title(\"Location-Price clusters with their Centroids\")\n",
    "plt.show()"
   ]
  },
  {
   "cell_type": "code",
   "execution_count": null,
   "id": "2d547c3b-abc4-4cdf-9eee-dd3401bf2503",
   "metadata": {},
   "outputs": [],
   "source": [
    "plt.figure(figsize = (14,6))\n",
    "sns.boxplot(y = train['abs_logerror'], x = X_train_scaled.clusters)\n",
    "\n",
    "plt.title(\"Location-Price Clusters do any show a difference in avg absolute logerror?\", fontsize = 15)\n",
    "plt.show()"
   ]
  },
  {
   "cell_type": "code",
   "execution_count": null,
   "id": "4443b157-ce15-4bb0-9bee-b28ad9f91137",
   "metadata": {},
   "outputs": [],
   "source": [
    "plt.figure(figsize = (16,6))\n",
    "sns.scatterplot(data = train, y = 'abs_logerror', x = 'ppsqft', hue = X_train_scaled['clusters'], palette='tab10')\n",
    "\n",
    "plt.title(\"Error, Clusters, and Price per SqFt\", fontsize = 15)\n",
    "plt.show()"
   ]
  },
  {
   "cell_type": "markdown",
   "id": "8ac301fa-b2af-4689-bee6-87a279986431",
   "metadata": {},
   "source": [
    "### Takeaways from Location-Price clusters\n",
    "- Cluster 6 has this large outlier that might be drawing the mean up\n",
    "- Cluster 7 has some significant outliers as well (abs_logerror above 4\n",
    "- The purple cluster (number 4) seems to have the lowest amount of high logerror homes"
   ]
  },
  {
   "cell_type": "markdown",
   "id": "aa3fc040-6427-4404-b268-0a9f81e8af74",
   "metadata": {},
   "source": [
    "<hr style=\"border-top: 10px groove #1277e1; margin-top: 1px; margin-bottom: 1px\"></hr>\n",
    "\n",
    "## Exploring and Stats testing with Clusters\n",
    "- In order to explore with my clusters, I would now need to scale my data to prep with modeling\n",
    "- I added my clusters to the data frames with the name `locationprice_cluster` \n",
    "- Scaled all my data\n",
    "- And created dummy variables for categorical variables, including clusters\n",
    "- All of this is in my wrangle_pt2 function"
   ]
  },
  {
   "cell_type": "code",
   "execution_count": null,
   "id": "5ee0f95b-f965-4dd3-9ceb-ad06b51ac4a6",
   "metadata": {},
   "outputs": [],
   "source": [
    "# data is now scaled and split into dummies appropriately\n",
    "train, validate, test, mm_scaler = w.wrangle_pt2()"
   ]
  },
  {
   "cell_type": "code",
   "execution_count": null,
   "id": "abc47453-3e22-4e64-bb39-b18ff5e98a54",
   "metadata": {},
   "outputs": [],
   "source": [
    "# create heatmap with scaled data\n",
    "plt.figure(figsize=(8,12))\n",
    "value_heatmap = sns.heatmap(train.corr()[['abs_logerror']].sort_values(by='abs_logerror', ascending=True), \n",
    "                            cmap='PuOr', vmin=-.5, vmax=.5, annot=True)\n",
    "value_heatmap.set_title('Feautures Correlating with Absolute Logerror')\n",
    "plt.show()"
   ]
  },
  {
   "cell_type": "markdown",
   "id": "efa4dd32-ae1c-4465-a7f8-d31b5c9c9c37",
   "metadata": {},
   "source": [
    "### Takeaways from Heatmap\n",
    "- Older the house, higher the error\n",
    "- Cluster_locationprice number 6 has a pretty high error \n",
    "- All of the age related columns \n",
    "- Age seems to be a driver more so than location\n",
    "- With more time: Try creating more location based clusters"
   ]
  },
  {
   "cell_type": "markdown",
   "id": "0ae55cc4-08a6-4476-a47a-d686f1ad26e2",
   "metadata": {},
   "source": [
    "<hr style=\"border-top: 10px groove #1277e1; margin-top: 1px; margin-bottom: 1px\"></hr>\n",
    "\n",
    "## Stats Testing\n",
    "Questions I have:\n",
    "- Do Age and abs log error have a linear relationship?\n",
    "- Does cluster locationprice group 6 have a relationship with abs log error (one sample, t_test)\n",
    "    - is the mean lower \n",
    "- Built before 1978 \n",
    "- 6 vs 7 ind ttest\n",
    "- Is there a relationship between taxvaluedollarcnt and abs_logerror"
   ]
  },
  {
   "cell_type": "markdown",
   "id": "3b8dc48f-003d-409e-92cc-9ee877cecb46",
   "metadata": {},
   "source": [
    "### Cluster Tests\n",
    "------\n",
    "${H_0}$: mean log error of cluster 6 == to mean absolute log error\n",
    "\n",
    "${H_a}$: mean log error of cluster 6 != to mean absolute log error\n",
    "\n",
    "alpha = 0.05\n"
   ]
  },
  {
   "cell_type": "code",
   "execution_count": null,
   "id": "21abd622-e0eb-412e-bcbf-e646ab30d139",
   "metadata": {},
   "outputs": [],
   "source": [
    "t, p = stats.ttest_1samp(train[train.clusters_locationprice_6 == 1].abs_logerror, train['abs_logerror'].mean() )"
   ]
  },
  {
   "cell_type": "code",
   "execution_count": null,
   "id": "ae3f0f13-bfe8-4695-a8ab-b2cc1e38dc69",
   "metadata": {},
   "outputs": [],
   "source": [
    "t, p "
   ]
  },
  {
   "cell_type": "markdown",
   "id": "fbf9cec9-a96e-4479-906d-ca79f1d7dfa6",
   "metadata": {},
   "source": [
    "### P is less than our alpha, can reject null hypothesis that mean abs_logerror of clusters_locationprice_6 are the same. Evidence to suggest they're different. Seems (because of the positive t) mean error is higher with this group\n",
    "\n",
    "- I don't think all the clusters are as relevant\n",
    "- Quick test with cluster 4 just to see.\n",
    "    - alpha = 0.05"
   ]
  },
  {
   "cell_type": "code",
   "execution_count": null,
   "id": "032d33d7-4905-4307-9d9a-68f24734c708",
   "metadata": {},
   "outputs": [],
   "source": [
    "t, p = stats.ttest_1samp(train[train.clusters_locationprice_4 == 1].abs_logerror, train['abs_logerror'].mean() )"
   ]
  },
  {
   "cell_type": "code",
   "execution_count": null,
   "id": "57335c9c-9822-4ee6-8b66-e8ad9163353a",
   "metadata": {},
   "outputs": [],
   "source": [
    "t, p"
   ]
  },
  {
   "cell_type": "markdown",
   "id": "5fd21028-551a-45c9-9d03-c1765985d892",
   "metadata": {},
   "source": [
    "#### P is not less than alpha for clusters_locationprice_4, suggesting this clusters mean logerror one isn't far off from group as a whole mean log error "
   ]
  },
  {
   "cell_type": "markdown",
   "id": "3f3fd7cf-4455-42f5-b1a8-2689ecfd3ce2",
   "metadata": {},
   "source": [
    "### Age tests\n",
    "#### One using the age variable (which is continuous) and once using the before 1987 binned category \n",
    "- could also compare two subgroups, before 1987 and after 1987\n",
    "\n",
    "-----\n",
    "\n",
    "${H_0}$: The mean abs_logerror for homes built before 1987 is == to the mean abs_logerror for all homes\n",
    "\n",
    "${H_a}$:The mean abs_logerror for homes built before 1987 is != to the mean abs_logerror for all homes\n",
    "\n",
    "alpha = 0.05\n",
    "\n",
    "test = independent T-Test"
   ]
  },
  {
   "cell_type": "code",
   "execution_count": null,
   "id": "0bd26e60-1b06-49b2-a2d1-777577b1a7be",
   "metadata": {},
   "outputs": [],
   "source": [
    "t, p = stats.ttest_1samp(train[train.built_before_1978 == 1].abs_logerror, train['abs_logerror'].mean())\n",
    "print(f't = {t}, p = {p}')"
   ]
  },
  {
   "cell_type": "markdown",
   "id": "9d4bcc1a-c371-41af-9ed2-08b6924c31eb",
   "metadata": {},
   "source": [
    "#### Because our P is less than our alpha, can reject null hypothesis that the mean abs_logerror for homes built before 1987 is statistically different than the mean abs_logerror for the whole population"
   ]
  },
  {
   "cell_type": "markdown",
   "id": "731abc5c-2493-41d6-9af8-a1705bb2499b",
   "metadata": {},
   "source": [
    "-----\n",
    "\n",
    "${H_0}$: There is no linear correlation between age of the home and absolute logerror\n",
    "\n",
    "${H_a}$:There is a linear correlation between age of the home and absolute logerror\n",
    "\n",
    "alpha = 0.05\n",
    "\n",
    "test = Pearson R"
   ]
  },
  {
   "cell_type": "code",
   "execution_count": null,
   "id": "513f7ccb-588e-4448-b2f6-a0ca159ea99a",
   "metadata": {},
   "outputs": [],
   "source": [
    "r, p = stats.pearsonr(train['age'], train['abs_logerror'])\n",
    "print(f'r = {r}, p = {p}')"
   ]
  },
  {
   "cell_type": "markdown",
   "id": "1dd49f45-9870-457b-a4a4-c7265182e5d3",
   "metadata": {},
   "source": [
    "#### The p is less than our alpha, we can reject the null hypothesis. There is evidence to suggest that the linear correlation between age and abs_logerror is statistically significant."
   ]
  },
  {
   "cell_type": "markdown",
   "id": "47efd4c8-bdd1-4a08-b563-5d9cfc983b55",
   "metadata": {},
   "source": [
    "-----\n",
    "\n",
    "### Tax Value and Log error\n",
    "\n",
    "${H_0}$: There is no linear relationship between Home Value (taxvaluedollarcnt) and absolute logerror \n",
    "\n",
    "${H_a}$: There is a linear relationship between Home Value (taxvaluedollarcnt) and absolute logerror\n",
    "\n",
    "alpha = 0.05\n",
    "\n",
    "test = Pearson R"
   ]
  },
  {
   "cell_type": "code",
   "execution_count": null,
   "id": "dd9a78e0-d8c0-4db7-9786-10de4768541a",
   "metadata": {},
   "outputs": [],
   "source": [
    "r, p = stats.pearsonr(train['taxvaluedollarcnt'], train['abs_logerror'])\n",
    "print(f'r = {r}, p = {p}')"
   ]
  },
  {
   "cell_type": "markdown",
   "id": "cf88e3b1-bf76-41bb-ba6d-8b98bb033edc",
   "metadata": {},
   "source": [
    "#### P value is less than the alpha, so we can reject the null hypotheses. There is evidence to suggest that the linear correlation between age and absolute logerror is statistically significant. "
   ]
  },
  {
   "cell_type": "markdown",
   "id": "2d03442e-b60a-4379-9386-c36d8ed021ae",
   "metadata": {},
   "source": [
    "<hr style=\"border-top: 10px groove #1277e1; margin-top: 1px; margin-bottom: 1px\"></hr>\n",
    "\n",
    "## Modeling\n",
    "**Create Basline based off of the Mean absolute logerror**\n",
    "   - The RMSE for predicting the mean: 0.1584\n",
    "   - This might be a pretty decent model. We'll see if we can get lower\n",
    "   - If baseline was using just logerror this would be the mean\n",
    "       - 0.0166\n",
    "   - When we use absolute logerror, mean is\n",
    "       - 0.0688\n",
    "**Things to Try:**\n",
    "- Try a generic model with my clusters and features included\n",
    "    - Is it better than the baseline?\n",
    "- Try several models based on age (using bins perhaps)\n",
    "    - Do these models perform better than the baseline? or better than the generic model from before?"
   ]
  },
  {
   "cell_type": "code",
   "execution_count": null,
   "id": "8ebe354b-881e-4338-b4e4-1420ca4b9638",
   "metadata": {},
   "outputs": [],
   "source": [
    "# add the baseline predictions to train validate and test\n",
    "train, validate, test = ev.get_mean_baseline(train, validate, test)"
   ]
  },
  {
   "cell_type": "markdown",
   "id": "ce09b615-93d5-4fae-8cc8-5f83976fbaa5",
   "metadata": {},
   "source": [
    "### Single Model goals\n",
    " - Generic Model with all features (clusters included) to see how it does\n",
    "     - use OLM\n",
    "     - Use Lasso Lars\n",
    "\n",
    "### Model 1 - OLM 1"
   ]
  },
  {
   "cell_type": "code",
   "execution_count": null,
   "id": "ad3f775d-c69f-4de7-8cc2-e6d371ad6a7c",
   "metadata": {},
   "outputs": [],
   "source": [
    "# get list of columns to use in X_train by dropping abs_logerror and baseline columns\n",
    "X_cols = list(train.drop(columns = ['abs_logerror', 'baseline']))\n",
    "y_col = 'abs_logerror'"
   ]
  },
  {
   "cell_type": "code",
   "execution_count": null,
   "id": "ee95b783-f3cd-45d8-88f9-752d8d7e0ba2",
   "metadata": {},
   "outputs": [],
   "source": [
    "# split in to X and y dfs\n",
    "X_train, y_train, X_validate, y_validate, X_test, y_test = w.all_aboard_the_X_train(X_cols, y_col, train, validate, test)"
   ]
  },
  {
   "cell_type": "code",
   "execution_count": null,
   "id": "63beb7b7-e5a0-42f5-8c24-409cba5d2d9d",
   "metadata": {},
   "outputs": [],
   "source": [
    "ev.regression_modeler_for_validating(X_cols, y_col, train, validate, model = LinearRegression(), model_name = 'olm_1')"
   ]
  },
  {
   "cell_type": "code",
   "execution_count": null,
   "id": "d3fefc87-326f-4275-bce7-5548fa106ac6",
   "metadata": {},
   "outputs": [],
   "source": [
    "ev.compare_to_basline(train, y_train, 'olm_1', 'train')"
   ]
  },
  {
   "cell_type": "code",
   "execution_count": null,
   "id": "1f4d6317-7f47-43a0-8cb8-1fb4d7c89d0e",
   "metadata": {},
   "outputs": [],
   "source": [
    "ev.compare_to_basline(validate, y_validate, 'olm_1', 'validate')"
   ]
  },
  {
   "cell_type": "markdown",
   "id": "543cdd2d-6578-4775-9eb1-1c87df8ec428",
   "metadata": {},
   "source": [
    "### Takeaways OLM Model 1\n",
    "- Better than the baseline by 0.002 on the RMSE on both seen and unseen data\n",
    "- Pretty decent as a first model will continue to see if I can be better"
   ]
  },
  {
   "cell_type": "markdown",
   "id": "a30feee3-0f05-4885-bb85-78482ee83b79",
   "metadata": {},
   "source": [
    "### Model 2 Lasso Lars\n",
    "- use all the variables and crate a lasso lars models\n",
    "- adjust alpha by tiny amounts (0.00001)"
   ]
  },
  {
   "cell_type": "code",
   "execution_count": null,
   "id": "f2649d46-d830-49c9-80a0-3c039abe7b42",
   "metadata": {},
   "outputs": [],
   "source": [
    "ev.regression_modeler_for_validating(X_cols, y_col, train, validate, model = LassoLars(alpha = 0.00001), model_name='lars_1')"
   ]
  },
  {
   "cell_type": "code",
   "execution_count": null,
   "id": "e156d201-e63a-4629-8f9a-23df9b33c5f2",
   "metadata": {},
   "outputs": [],
   "source": [
    "ev.compare_to_basline(train, y_train, 'lars_1', 'train')"
   ]
  },
  {
   "cell_type": "code",
   "execution_count": null,
   "id": "1a327634-6281-4a1f-aa58-f8c005373990",
   "metadata": {},
   "outputs": [],
   "source": [
    "ev.compare_to_basline(validate, y_validate, 'lars_1', 'validate')"
   ]
  },
  {
   "cell_type": "markdown",
   "id": "cc54a882-e27a-479c-ab8b-b42225e02779",
   "metadata": {},
   "source": [
    "### Takeaways Lars Model 1\n",
    "- better than baseline by 0.001\n",
    "- not as good as the first OLM model\n",
    "- will try again adjusting the alpha some more"
   ]
  },
  {
   "cell_type": "markdown",
   "id": "162f2ce0-b17f-4caa-861f-21ab6d6ea26a",
   "metadata": {},
   "source": [
    "### Model 3 Lasso Lars (2)\n",
    "- this model will be different from above by adjusting the alpha some more"
   ]
  },
  {
   "cell_type": "code",
   "execution_count": null,
   "id": "15c70fed-c58d-4db6-83e0-06b3d4668889",
   "metadata": {},
   "outputs": [],
   "source": [
    "ev.regression_modeler_for_validating(X_cols, y_col, train, validate, model = LassoLars(alpha = 0.000001), model_name='lars_2')"
   ]
  },
  {
   "cell_type": "code",
   "execution_count": null,
   "id": "a927a884-06ca-4481-8d53-2a009cc41dec",
   "metadata": {},
   "outputs": [],
   "source": [
    "ev.compare_to_basline(train, y_train, 'lars_2', 'train')"
   ]
  },
  {
   "cell_type": "code",
   "execution_count": null,
   "id": "608c4ebb-b614-4ef9-be18-efd196316bb5",
   "metadata": {},
   "outputs": [],
   "source": [
    "ev.compare_to_basline(validate, y_validate, 'lars_1', 'validate')"
   ]
  },
  {
   "cell_type": "markdown",
   "id": "1cfdf855-56a3-4fad-af00-4241cd6f6285",
   "metadata": {},
   "source": [
    "### Takeaways Lasso Lars Model 2\n",
    "- tweaking the alpha doesn't do as much"
   ]
  },
  {
   "cell_type": "markdown",
   "id": "d533d2ce-8a52-4994-a6f7-73ac7c30459e",
   "metadata": {},
   "source": [
    "### Models with age \n",
    "Try several models based on age (using bins perhaps)\n",
    "   - Do these models perform better than the baseline? or better than the generic model from before?\n",
    "Create models on subsets of the data\n",
    "- 3 models, one for each bin of the age data\n",
    "    - DISCOVERED: not enough data in validate to do three bins, will to two\n",
    "    - one before 1987 and one after\n",
    "- will use OLM because it was the best in the ones before"
   ]
  },
  {
   "cell_type": "code",
   "execution_count": null,
   "id": "c64c4646-17f5-4459-8d6f-74e9f8d12c1d",
   "metadata": {},
   "outputs": [],
   "source": [
    "#split into 3 dataframes for old middle new homes\n",
    "\n",
    "train_old, train_new = ev.old_new(train)\n",
    "\n",
    "validate_old, validate_new = ev.old_new(validate)\n",
    "\n",
    "test_old, test_new = ev.old_new(test)\n"
   ]
  },
  {
   "cell_type": "code",
   "execution_count": null,
   "id": "b9327827-7938-4a4d-b901-af6bfc292c90",
   "metadata": {},
   "outputs": [],
   "source": [
    "# split into X_train and y_train and X_validate and y_validate for old and new\n",
    "\n",
    "X_train_o, y_train_o, X_validate_o, y_validate_o, X_test_o, y_test_o = w.all_aboard_the_X_train(X_cols, y_col, train_old, validate_old, test_old)\n",
    "\n",
    "X_train_n, y_train_n, X_validate_n, y_validate_n, X_test_n, y_test_n = w.all_aboard_the_X_train(X_cols, y_col, train_new, validate_new, test_new)\n",
    "\n"
   ]
  },
  {
   "cell_type": "code",
   "execution_count": null,
   "id": "c6c84145-06f7-4fd6-a99c-bd46382744b4",
   "metadata": {},
   "outputs": [],
   "source": [
    "# create models for old homes\n",
    "\n",
    "ev.regression_modeler_for_validating(X_cols, y_col, train_old, validate_old, model_name= 'olm_1')\n"
   ]
  },
  {
   "cell_type": "code",
   "execution_count": null,
   "id": "27d74b43-a12c-4dc1-876e-65a3c2fb0f5d",
   "metadata": {},
   "outputs": [],
   "source": [
    "ev.compare_to_basline(train_old, y_train_o, 'olm_1', 'train_old')"
   ]
  },
  {
   "cell_type": "code",
   "execution_count": null,
   "id": "b084ecdd-16ec-4751-8e74-cc1591766535",
   "metadata": {},
   "outputs": [],
   "source": [
    "ev.compare_to_basline(validate_old, y_validate_o, 'olm_1', 'validate_old')"
   ]
  },
  {
   "cell_type": "code",
   "execution_count": null,
   "id": "8293672a-2644-49fc-bd9e-8b25f9375124",
   "metadata": {},
   "outputs": [],
   "source": [
    "# create model for newer homes \n",
    "\n",
    "ev.regression_modeler_for_validating(X_cols, y_col, train_new, validate_new, model_name= 'olm_1')\n"
   ]
  },
  {
   "cell_type": "code",
   "execution_count": null,
   "id": "05ec4993-fa03-4994-acac-33fad4304c56",
   "metadata": {},
   "outputs": [],
   "source": [
    "ev.compare_to_basline(train_new, y_train_n, 'olm_1', 'train_new')"
   ]
  },
  {
   "cell_type": "code",
   "execution_count": null,
   "id": "6d713def-2eb7-4952-969e-99f69340c1c1",
   "metadata": {},
   "outputs": [],
   "source": [
    "ev.compare_to_basline(validate_new, y_validate_n, 'olm_1', 'validate_new')"
   ]
  },
  {
   "cell_type": "markdown",
   "id": "b653fb96-d52a-4713-81ab-04d285dc6536",
   "metadata": {},
   "source": [
    "### Takeaways Modeling with Age\n",
    "- After taking out the homes before 1978, and creating two separate models, both train and validate had a 0.002 improvement over the baseline using an olm model\n",
    "- The model for new homes seem to be performing better. "
   ]
  },
  {
   "cell_type": "markdown",
   "id": "da7467ab-fb88-4d42-ad13-0a97e9119827",
   "metadata": {},
   "source": [
    "## Choosing the best model"
   ]
  },
  {
   "cell_type": "code",
   "execution_count": null,
   "id": "cad98b87-2839-4776-9f5c-916ef8a13b71",
   "metadata": {},
   "outputs": [],
   "source": [
    "# plot to visualize actual vs predicted. \n",
    "plt.figure(figsize=(15,7))\n",
    "plt.hist(validate['abs_logerror'], color='blue', alpha=.5, label=\"Actual ABS Logerror\", \n",
    "         bins=[0, .1, .2, .3, .4, .5, .6, .7, .8])\n",
    "plt.hist(validate['baseline'], color='orange', alpha=.5, label=\"Basline Model\")\n",
    "plt.hist(validate['olm_1'], color='red', alpha=.5, label=\"Model: LinearRegression\")\n",
    "plt.hist(validate['lars_1'], color='yellow', alpha=.5, label=\"Model: Lasso_Lars\")\n",
    "plt.hist(validate['lars_2'], color='green', alpha=.5, label=\"Model: Lasso_Lars 2\")\n",
    "plt.suptitle(\"Comparison of the models using all the features\", fontsize = 15)\n",
    "plt.title(\"Only showing error between (0 - 1.5)\")\n",
    "plt.xlabel(\"Absolute Log Error\")\n",
    "plt.ylabel(\"Number of Homes in LogError Range\")\n",
    "plt.xlim(left = 0, right = 1.5)\n",
    "plt.legend()\n",
    "plt.show()"
   ]
  },
  {
   "cell_type": "markdown",
   "id": "78bb0a36-5aa9-4b75-aa24-c0055d216fa8",
   "metadata": {},
   "source": [
    "**None of the Models Did particularly well**\n",
    "- Although taking out the old homes, and just creating a model for the new homes, performed the best (beating the baseline RMSE by .0022 on unseen data), the model for the older homes didn't do as well. With more time I would tweak that model maybe using lasso lars or polynomial regression to make that work better\n",
    "- Because that one was incomplete, the second best model was the Linear Regression using all the features (model 1) \n",
    "- Outscoring the baseline by 0.0013 on the unseen data\n",
    "- As evident by the graph, there is not a huge difference in the predictive value of the models created"
   ]
  },
  {
   "cell_type": "code",
   "execution_count": null,
   "id": "7053d09c-4225-4387-a8e6-81441415ed18",
   "metadata": {},
   "outputs": [],
   "source": [
    "ev.regression_modeler_for_TEST(X_cols, y_col, train, validate, test, model_name = 'olm_1' )\n"
   ]
  },
  {
   "cell_type": "code",
   "execution_count": null,
   "id": "21e8e59f-1d51-419a-8aa2-ab6b4595dda2",
   "metadata": {},
   "outputs": [],
   "source": [
    "ev.compare_to_basline(test, test[y_col], 'olm_1', 'test')"
   ]
  },
  {
   "cell_type": "markdown",
   "id": "59c6ff5f-f0b2-40f2-ac35-2adc18370c17",
   "metadata": {},
   "source": [
    "<hr style=\"border-top: 10px groove #1277e1; margin-top: 1px; margin-bottom: 1px\"></hr>\n",
    "\n",
    "# Conclusion\n",
    "- The models were not very effective but did out perform the baseline\n",
    "- There was some value in the clusters created from Location and Price\n",
    "- With some more time I would like to \n",
    "    - Create more clusters using age and price to see if I can find a driver there\n",
    "    - Create some polynomial regression models \n",
    "    - Dig deep into the older homes model and see if I can make that better\n"
   ]
  },
  {
   "cell_type": "code",
   "execution_count": null,
   "id": "eca90577-3f1b-487f-9a6d-a3a8563dde33",
   "metadata": {},
   "outputs": [],
   "source": []
  }
 ],
 "metadata": {
  "kernelspec": {
   "display_name": "Python 3",
   "language": "python",
   "name": "python3"
  },
  "language_info": {
   "codemirror_mode": {
    "name": "ipython",
    "version": 3
   },
   "file_extension": ".py",
   "mimetype": "text/x-python",
   "name": "python",
   "nbconvert_exporter": "python",
   "pygments_lexer": "ipython3",
   "version": "3.8.5"
  }
 },
 "nbformat": 4,
 "nbformat_minor": 5
}
