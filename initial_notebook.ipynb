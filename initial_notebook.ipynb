{
 "cells": [
  {
   "cell_type": "markdown",
   "id": "e2512860-0b18-4b56-83d3-7077da4a71bf",
   "metadata": {},
   "source": [
    "# Initial Zillow Clustering Project Notebook "
   ]
  },
  {
   "cell_type": "code",
   "execution_count": 2,
   "id": "9a15ca83-efcb-43b5-9cd4-5243d67013df",
   "metadata": {},
   "outputs": [],
   "source": [
    "import pandas as pd\n",
    "import numpy as np\n",
    "\n",
    "# Vis tools\n",
    "import matplotlib.pyplot as plt\n",
    "import seaborn as sns\n",
    "\n",
    "# Custom Modules\n",
    "\n",
    "# stats and modeling tools\n",
    "from sklearn.cluster import KMeans\n",
    "import scipy.stats as stats\n",
    "from sklearn.linear_model import LinearRegression, LassoLars, TweedieRegressor\n",
    "from sklearn.tree import DecisionTreeRegressor\n",
    "from sklearn.feature_selection import SelectKBest, f_regression, RFE\n",
    "from sklearn.preprocessing import MinMaxScaler, PolynomialFeatures\n",
    "from sklearn.metrics import mean_squared_error, r2_score\n",
    "\n",
    "# supress scientific notation\n",
    "np.set_printoptions(suppress=True)\n",
    "\n",
    "# silence warnings\n",
    "import warnings\n",
    "warnings.filterwarnings(\"ignore\")"
   ]
  },
  {
   "cell_type": "code",
   "execution_count": 3,
   "id": "e29f73a6-f6ce-4483-bbb9-b6467e01cecd",
   "metadata": {},
   "outputs": [
    {
     "data": {
      "text/html": [
       "<svg  width=\"275\" height=\"55\"><rect x=\"0\" y=\"0\" width=\"55\" height=\"55\" style=\"fill:#1277e1;stroke-width:2;stroke:rgb(255,255,255)\"/><rect x=\"55\" y=\"0\" width=\"55\" height=\"55\" style=\"fill:#f3ad35;stroke-width:2;stroke:rgb(255,255,255)\"/><rect x=\"110\" y=\"0\" width=\"55\" height=\"55\" style=\"fill:#0b449c;stroke-width:2;stroke:rgb(255,255,255)\"/><rect x=\"165\" y=\"0\" width=\"55\" height=\"55\" style=\"fill:#5289e4;stroke-width:2;stroke:rgb(255,255,255)\"/><rect x=\"220\" y=\"0\" width=\"55\" height=\"55\" style=\"fill:#c3eafb;stroke-width:2;stroke:rgb(255,255,255)\"/></svg>"
      ],
      "text/plain": [
       "[(0.07058823529411765, 0.4666666666666667, 0.8823529411764706),\n",
       " (0.9529411764705882, 0.6784313725490196, 0.20784313725490197),\n",
       " (0.043137254901960784, 0.26666666666666666, 0.611764705882353),\n",
       " (0.3215686274509804, 0.5372549019607843, 0.8941176470588236),\n",
       " (0.7647058823529411, 0.9176470588235294, 0.984313725490196)]"
      ]
     },
     "execution_count": 3,
     "metadata": {},
     "output_type": "execute_result"
    }
   ],
   "source": [
    "# set and use zillow color palette\n",
    "zpalette = ['#1277e1', '#f3ad35', '#0b449c', '#5289e4', '#c3eafb']\n",
    "sns.set_palette(zpalette)\n",
    "sns.color_palette()"
   ]
  },
  {
   "cell_type": "markdown",
   "id": "c30e8413-1e40-41e7-944c-72f8ed1d6a91",
   "metadata": {},
   "source": [
    "<hr style=\"border-top: 10px groove #1277e1; margin-top: 1px; margin-bottom: 1px\"></hr>\n",
    "\n",
    "## Project Goals and Ideas\n",
    "### The Big Question: What is driving the errors in the Zestimates?\n",
    "\n",
    "For this project the target is `logerror`\n",
    "\n",
    "#### Goal: Identify Drivers of Error and Create model(s) that account for those drivers.\n",
    "\n",
    "#### Initial Thoughts\n",
    "- After only looking at size (bedroom count, bathroom count and square footage for the house itself) model was not great\n",
    "- Location is very important in real estate. As they say Location Location Location\n",
    "    - Use Latitude and Longitude to narrow down groups\n",
    "    - Create clusters of error based on location\n",
    "    - if that doesn't work, try to use location data and price to create neighborhood clusters  \n",
    "- Price per square foot is something lots of realtors use for comparing houses that aren't the same size \n",
    "    - Create engineered feature, `ppsqft` divide `taxvalue` / `calculatedfinishedsquarefeet` \n",
    "- Age of home is important when comparing houses, realtors will compare houses built before 1978, between 1798-2000 and post 2000\n",
    "    - Create engineered feature age, based on year built\n",
    "    - Create three bins\n",
    "- Related to size of home, homes typically get compared with other homes within a 400sqft variance. Possibility here to create size clusters based on `calculatedfinishedsquarefeet`, or `ppsft`, or `lotsize`"
   ]
  },
  {
   "cell_type": "code",
   "execution_count": 9,
   "id": "48306b51-799f-43d2-9622-a4ee299d306d",
   "metadata": {},
   "outputs": [],
   "source": [
    "# defining some functions to make it easier. will go in Wrangle function\n",
    "from env import host, password, user\n",
    "import os\n",
    "\n",
    "###################### Getting database Url ################\n",
    "def get_db_url(db_name, user=user, host=host, password=password):\n",
    "    \"\"\"\n",
    "        This helper function takes as default the user host and password from the env file.\n",
    "        You must input the database name. It returns the appropriate URL to use in connecting to a database.\n",
    "    \"\"\"\n",
    "    url = f'mysql+pymysql://{user}:{password}@{host}/{db_name}'\n",
    "    return url\n",
    "\n",
    "######################### get generic data #########################\n",
    "def get_any_data(database, sql_query):\n",
    "    '''\n",
    "    put in the query and the database and get the data you need in a dataframe\n",
    "    '''\n",
    "\n",
    "    return pd.read_sql(sql_query, get_db_url(database))\n",
    "\n",
    "######################### get Zillow Data #########################\n",
    "def get_zillow_data():\n",
    "    '''\n",
    "    This function reads in Zillow data from Codeup database, writes data to\n",
    "    a csv file if a local file does not exist, and returns a df.\n",
    "    '''\n",
    "    sql_query = \"\"\"\n",
    "                SELECT parcelid, airconditioningtypeid, airconditioningdesc, architecturalstyletypeid, architecturalstyledesc,\n",
    "                bathroomcnt, bedroomcnt, buildingclasstypeid, buildingclassdesc, buildingqualitytypeid,\n",
    "                decktypeid, calculatedfinishedsquarefeet, fips, fireplacecnt, fireplaceflag, garagecarcnt, garagetotalsqft,\n",
    "                hashottuborspa, latitude, longitude, lotsizesquarefeet, poolcnt, poolsizesum, propertycountylandusecode,\n",
    "                propertylandusetypeid, propertylandusedesc, propertyzoningdesc, rawcensustractandblock, \n",
    "                regionidcity, regionidcounty, regionidneighborhood, roomcnt, threequarterbathnbr, typeconstructiontypeid, typeconstructiondesc, unitcnt, yearbuilt, numberofstories, structuretaxvaluedollarcnt, taxvaluedollarcnt, assessmentyear, \n",
    "                landtaxvaluedollarcnt, taxamount, censustractandblock, logerror, transactiondate \n",
    "                FROM properties_2017 AS p\n",
    "                JOIN predictions_2017 USING (parcelid)\n",
    "                INNER JOIN (SELECT parcelid, MAX(transactiondate) AS transactiondate\n",
    "                FROM predictions_2017\n",
    "                GROUP BY parcelid) \n",
    "                AS t USING (parcelid, transactiondate)\n",
    "                LEFT JOIN airconditioningtype USING (airconditioningtypeid)\n",
    "                LEFT JOIN architecturalstyletype USING (architecturalstyletypeid)\n",
    "                LEFT JOIN buildingclasstype USING (buildingclasstypeid)\n",
    "                LEFT JOIN heatingorsystemtype USING (heatingorsystemtypeid)\n",
    "                LEFT JOIN propertylandusetype USING (propertylandusetypeid)\n",
    "                LEFT JOIN storytype USING (storytypeid)\n",
    "                LEFT JOIN typeconstructiontype USING (typeconstructiontypeid)\n",
    "                WHERE latitude IS NOT NULL AND longitude IS NOT NULL \n",
    "                AND transactiondate LIKE \"2017%%\";\n",
    "                \"\"\"\n",
    "    if os.path.isfile('zillow_data.csv'):\n",
    "        \n",
    "        # If csv file exists read in data from csv file.\n",
    "        df = pd.read_csv('zillow_data.csv', index_col=0)\n",
    "        \n",
    "    else:\n",
    "        \n",
    "        # Read fresh data from db into a DataFrame\n",
    "        df = pd.read_sql(sql_query, get_db_url('zillow'))\n",
    "        \n",
    "        # Cache data\n",
    "        df.to_csv('zillow_data.csv')\n",
    "\n",
    "    return df"
   ]
  },
  {
   "cell_type": "code",
   "execution_count": 10,
   "id": "5a3e8a9a-dc1d-463e-bf09-53b12b2ee6ca",
   "metadata": {},
   "outputs": [],
   "source": [
    "def overview(df, thresh = 10):\n",
    "    '''\n",
    "    This function takes in a dataframe and prints out useful things about each column.\n",
    "    Unique values, value counts for columns less than 10 (can be adjusted with optional arguement thresh)\n",
    "    Whether or not the row has nulls\n",
    "    '''\n",
    "    # create list of columns\n",
    "    col_list = df.columns\n",
    "    \n",
    "    # loop through column list\n",
    "    for col in col_list:\n",
    "        # seperator using column name\n",
    "        print(f'============== {col} ==============')\n",
    "        \n",
    "        # print out unique values for each column\n",
    "        print(f'# Unique Vals: {df[col].nunique()}')\n",
    "        \n",
    "        # if number of things is under or equal to the threshold  print a value counts\n",
    "        if df[col].nunique() <= thresh:\n",
    "            print(df[col].value_counts(dropna = False).sort_index(ascending = True))\n",
    "            \n",
    "        # if the number is less than 150 and not an object, bin it and do value counts\n",
    "        elif (df[col].nunique() < 150) and df[col].dtype != 'object' :\n",
    "            print(df[col].value_counts(bins = 10, dropna=False).sort_index(ascending = True))\n",
    "        \n",
    "        # Space for readability \n",
    "        print('')\n",
    "       "
   ]
  },
  {
   "cell_type": "code",
   "execution_count": 11,
   "id": "d3b5df7d-2ee2-4339-bb09-37a01bc4a667",
   "metadata": {},
   "outputs": [],
   "source": [
    "# I saw this on the afore mentioned kaggle site. This is the credit that author gave.\n",
    "# credit: https://www.kaggle.com/willkoehrsen/start-here-a-gentle-introduction. \n",
    "# One of the best notebooks on getting started with a ML problem.\n",
    "\n",
    "def missing_values_table(df):\n",
    "    '''\n",
    "    this function takes a dataframe as input and will output metrics for missing values, \n",
    "    and the percent of that column that has missing values\n",
    "    '''\n",
    "    # Total missing values\n",
    "    mis_val = df.isnull().sum()\n",
    "    \n",
    "    # Percentage of missing values\n",
    "    mis_val_percent = 100 * df.isnull().sum() / len(df)\n",
    "    \n",
    "    # Make a table with the results\n",
    "    mis_val_table = pd.concat([mis_val, mis_val_percent], axis=1)\n",
    "    \n",
    "    # Rename the columns\n",
    "    mis_val_table_ren_columns = mis_val_table.rename(\n",
    "    columns = {0 : 'Missing Values', 1 : '% of Total Values'})\n",
    "    \n",
    "    # Sort the table by percentage of missing descending\n",
    "    mis_val_table_ren_columns = mis_val_table_ren_columns[\n",
    "        mis_val_table_ren_columns.iloc[:,1] != 0].sort_values(\n",
    "    '% of Total Values', ascending=False).round(1)\n",
    "    \n",
    "    # Print some summary information\n",
    "    print (\"Your selected dataframe has \" + str(df.shape[1]) + \" columns.\\n\"      \n",
    "        \"There are \" + str(mis_val_table_ren_columns.shape[0]) +\n",
    "        \" columns that have missing values.\")\n",
    "        \n",
    "        # Return the dataframe with missing information\n",
    "    return mis_val_table_ren_columns"
   ]
  },
  {
   "cell_type": "markdown",
   "id": "6162a3c5-eec3-475e-95a2-f4ec000a7742",
   "metadata": {},
   "source": [
    "<hr style=\"border-top: 10px groove #1277e1; margin-top: 1px; margin-bottom: 1px\"></hr>\n",
    "\n",
    "## Get the Data and Overview\n",
    "- Shape of data\n",
    "- Number unique values\n",
    "- Distribution of values\n",
    "- Null Value exploration"
   ]
  },
  {
   "cell_type": "code",
   "execution_count": 76,
   "id": "c86f829a-7026-451c-a348-b72cd210d3a7",
   "metadata": {},
   "outputs": [],
   "source": [
    "# get zillow data with function above\n",
    "df = get_zillow_data()"
   ]
  },
  {
   "cell_type": "code",
   "execution_count": 13,
   "id": "53997b15-0276-4065-99d6-5a2bfcca6387",
   "metadata": {},
   "outputs": [
    {
     "data": {
      "text/plain": [
       "(77380, 46)"
      ]
     },
     "execution_count": 13,
     "metadata": {},
     "output_type": "execute_result"
    }
   ],
   "source": [
    "# have a total of 77380 rows 46 columns\n",
    "df.shape"
   ]
  },
  {
   "cell_type": "code",
   "execution_count": 15,
   "id": "91c1019d-37be-4257-a512-9b5a0acf1e03",
   "metadata": {},
   "outputs": [
    {
     "name": "stdout",
     "output_type": "stream",
     "text": [
      "<class 'pandas.core.frame.DataFrame'>\n",
      "RangeIndex: 77380 entries, 0 to 77379\n",
      "Data columns (total 46 columns):\n",
      " #   Column                        Non-Null Count  Dtype  \n",
      "---  ------                        --------------  -----  \n",
      " 0   parcelid                      77380 non-null  int64  \n",
      " 1   airconditioningtypeid         24953 non-null  float64\n",
      " 2   airconditioningdesc           24953 non-null  object \n",
      " 3   architecturalstyletypeid      206 non-null    float64\n",
      " 4   architecturalstyledesc        206 non-null    object \n",
      " 5   bathroomcnt                   77380 non-null  float64\n",
      " 6   bedroomcnt                    77380 non-null  float64\n",
      " 7   buildingclasstypeid           15 non-null     float64\n",
      " 8   buildingclassdesc             15 non-null     object \n",
      " 9   buildingqualitytypeid         49671 non-null  float64\n",
      " 10  decktypeid                    614 non-null    float64\n",
      " 11  calculatedfinishedsquarefeet  77184 non-null  float64\n",
      " 12  fips                          77380 non-null  float64\n",
      " 13  fireplacecnt                  8276 non-null   float64\n",
      " 14  fireplaceflag                 172 non-null    float64\n",
      " 15  garagecarcnt                  25474 non-null  float64\n",
      " 16  garagetotalsqft               25474 non-null  float64\n",
      " 17  hashottuborspa                1538 non-null   float64\n",
      " 18  latitude                      77380 non-null  float64\n",
      " 19  longitude                     77380 non-null  float64\n",
      " 20  lotsizesquarefeet             69141 non-null  float64\n",
      " 21  poolcnt                       16137 non-null  float64\n",
      " 22  poolsizesum                   867 non-null    float64\n",
      " 23  propertycountylandusecode     77380 non-null  object \n",
      " 24  propertylandusetypeid         77380 non-null  float64\n",
      " 25  propertylandusedesc           77380 non-null  object \n",
      " 26  propertyzoningdesc            50330 non-null  object \n",
      " 27  rawcensustractandblock        77380 non-null  float64\n",
      " 28  regionidcity                  75909 non-null  float64\n",
      " 29  regionidcounty                77380 non-null  float64\n",
      " 30  regionidneighborhood          30890 non-null  float64\n",
      " 31  roomcnt                       77380 non-null  float64\n",
      " 32  threequarterbathnbr           10096 non-null  float64\n",
      " 33  typeconstructiontypeid        222 non-null    float64\n",
      " 34  typeconstructiondesc          222 non-null    object \n",
      " 35  unitcnt                       50562 non-null  float64\n",
      " 36  yearbuilt                     77117 non-null  float64\n",
      " 37  numberofstories               17560 non-null  float64\n",
      " 38  structuretaxvaluedollarcnt    77268 non-null  float64\n",
      " 39  taxvaluedollarcnt             77379 non-null  float64\n",
      " 40  assessmentyear                77380 non-null  float64\n",
      " 41  landtaxvaluedollarcnt         77378 non-null  float64\n",
      " 42  taxamount                     77375 non-null  float64\n",
      " 43  censustractandblock           77136 non-null  float64\n",
      " 44  logerror                      77380 non-null  float64\n",
      " 45  transactiondate               77380 non-null  object \n",
      "dtypes: float64(37), int64(1), object(8)\n",
      "memory usage: 27.2+ MB\n"
     ]
    }
   ],
   "source": [
    "# see the names and types of all columns\n",
    "# Lots of Nulls to deal with\n",
    "# might need to do some splitting up vx object, float and int\n",
    "df.info()"
   ]
  },
  {
   "cell_type": "code",
   "execution_count": 16,
   "id": "32f8f2cf-5cb7-497d-b042-565b3c5bf0c9",
   "metadata": {},
   "outputs": [
    {
     "name": "stdout",
     "output_type": "stream",
     "text": [
      "============== parcelid ==============\n",
      "# Unique Vals: 77380\n",
      "\n",
      "============== airconditioningtypeid ==============\n",
      "# Unique Vals: 5\n",
      "1.0     23133\n",
      "5.0       167\n",
      "9.0        26\n",
      "11.0       53\n",
      "13.0     1574\n",
      "NaN     52427\n",
      "Name: airconditioningtypeid, dtype: int64\n",
      "\n",
      "============== airconditioningdesc ==============\n",
      "# Unique Vals: 5\n",
      "Central          23133\n",
      "None               167\n",
      "Refrigeration       26\n",
      "Wall Unit           53\n",
      "Yes               1574\n",
      "NaN              52427\n",
      "Name: airconditioningdesc, dtype: int64\n",
      "\n",
      "============== architecturalstyletypeid ==============\n",
      "# Unique Vals: 5\n",
      "2.0         5\n",
      "3.0         3\n",
      "7.0       172\n",
      "8.0        19\n",
      "21.0        7\n",
      "NaN     77174\n",
      "Name: architecturalstyletypeid, dtype: int64\n",
      "\n",
      "============== architecturalstyledesc ==============\n",
      "# Unique Vals: 5\n",
      "Bungalow             5\n",
      "Cape Cod             3\n",
      "Contemporary       172\n",
      "Conventional        19\n",
      "Ranch/Rambler        7\n",
      "NaN              77174\n",
      "Name: architecturalstyledesc, dtype: int64\n",
      "\n",
      "============== bathroomcnt ==============\n",
      "# Unique Vals: 22\n",
      "(-0.019, 1.8]    14909\n",
      "(1.8, 3.6]       56435\n",
      "(3.6, 5.4]        5073\n",
      "(5.4, 7.2]         801\n",
      "(7.2, 9.0]         150\n",
      "(9.0, 10.8]          7\n",
      "(10.8, 12.6]         3\n",
      "(12.6, 14.4]         1\n",
      "(14.4, 16.2]         0\n",
      "(16.2, 18.0]         1\n",
      "Name: bathroomcnt, dtype: int64\n",
      "\n",
      "============== bedroomcnt ==============\n",
      "# Unique Vals: 16\n",
      "(-0.017, 1.6]     4209\n",
      "(1.6, 3.2]       49530\n",
      "(3.2, 4.8]       17513\n",
      "(4.8, 6.4]        5541\n",
      "(6.4, 8.0]         460\n",
      "(8.0, 9.6]          70\n",
      "(9.6, 11.2]         39\n",
      "(11.2, 12.8]        14\n",
      "(12.8, 14.4]         3\n",
      "(14.4, 16.0]         1\n",
      "Name: bedroomcnt, dtype: int64\n",
      "\n",
      "============== buildingclasstypeid ==============\n",
      "# Unique Vals: 2\n",
      "3.0        1\n",
      "4.0       14\n",
      "NaN    77365\n",
      "Name: buildingclasstypeid, dtype: int64\n",
      "\n",
      "============== buildingclassdesc ==============\n",
      "# Unique Vals: 2\n",
      "Buildings having exterior walls built of a non-combustible material such as brick, concrete, block or poured concrete. Interior partitions and roof structures are built of combustible materials. Floor may be concrete or wood frame.        1\n",
      "Buildings having wood or wood and steel frames                                                                                                                                                                                                14\n",
      "NaN                                                                                                                                                                                                                                        77365\n",
      "Name: buildingclassdesc, dtype: int64\n",
      "\n",
      "============== buildingqualitytypeid ==============\n",
      "# Unique Vals: 12\n",
      "(0.988, 2.1]       35\n",
      "(2.1, 3.2]        329\n",
      "(3.2, 4.3]       9482\n",
      "(4.3, 5.4]       2088\n",
      "(5.4, 6.5]      13462\n",
      "(6.5, 7.6]       5971\n",
      "(7.6, 8.7]      14645\n",
      "(8.7, 9.8]       2299\n",
      "(9.8, 10.9]       313\n",
      "(10.9, 12.0]     1047\n",
      "Name: buildingqualitytypeid, dtype: int64\n",
      "\n",
      "============== decktypeid ==============\n",
      "# Unique Vals: 1\n",
      "66.0      614\n",
      "NaN     76766\n",
      "Name: decktypeid, dtype: int64\n",
      "\n",
      "============== calculatedfinishedsquarefeet ==============\n",
      "# Unique Vals: 4972\n",
      "\n",
      "============== fips ==============\n",
      "# Unique Vals: 3\n",
      "6037.0    50550\n",
      "6059.0    20593\n",
      "6111.0     6237\n",
      "Name: fips, dtype: int64\n",
      "\n",
      "============== fireplacecnt ==============\n",
      "# Unique Vals: 5\n",
      "1.0     7008\n",
      "2.0      995\n",
      "3.0      235\n",
      "4.0       35\n",
      "5.0        3\n",
      "NaN    69104\n",
      "Name: fireplacecnt, dtype: int64\n",
      "\n",
      "============== fireplaceflag ==============\n",
      "# Unique Vals: 1\n",
      "1.0      172\n",
      "NaN    77208\n",
      "Name: fireplaceflag, dtype: int64\n",
      "\n",
      "============== garagecarcnt ==============\n",
      "# Unique Vals: 14\n",
      "(-0.015, 1.4]     5906\n",
      "(1.4, 2.8]       18608\n",
      "(2.8, 4.2]         887\n",
      "(4.2, 5.6]          45\n",
      "(5.6, 7.0]          18\n",
      "(7.0, 8.4]           2\n",
      "(8.4, 9.8]           2\n",
      "(9.8, 11.2]          4\n",
      "(11.2, 12.6]         0\n",
      "(12.6, 14.0]         2\n",
      "Name: garagecarcnt, dtype: int64\n",
      "\n",
      "============== garagetotalsqft ==============\n",
      "# Unique Vals: 839\n",
      "\n",
      "============== hashottuborspa ==============\n",
      "# Unique Vals: 1\n",
      "1.0     1538\n",
      "NaN    75842\n",
      "Name: hashottuborspa, dtype: int64\n",
      "\n",
      "============== latitude ==============\n",
      "# Unique Vals: 64037\n",
      "\n",
      "============== longitude ==============\n",
      "# Unique Vals: 62460\n",
      "\n",
      "============== lotsizesquarefeet ==============\n",
      "# Unique Vals: 18848\n",
      "\n",
      "============== poolcnt ==============\n",
      "# Unique Vals: 1\n",
      "1.0    16137\n",
      "NaN    61243\n",
      "Name: poolcnt, dtype: int64\n",
      "\n",
      "============== poolsizesum ==============\n",
      "# Unique Vals: 262\n",
      "\n",
      "============== propertycountylandusecode ==============\n",
      "# Unique Vals: 75\n",
      "\n",
      "============== propertylandusetypeid ==============\n",
      "# Unique Vals: 13\n",
      "(30.755, 55.4]       15\n",
      "(55.4, 79.8]          0\n",
      "(79.8, 104.2]         0\n",
      "(104.2, 128.6]        0\n",
      "(128.6, 153.0]        0\n",
      "(153.0, 177.4]        0\n",
      "(177.4, 201.8]        0\n",
      "(201.8, 226.2]        0\n",
      "(226.2, 250.6]     3271\n",
      "(250.6, 275.0]    74094\n",
      "Name: propertylandusetypeid, dtype: int64\n",
      "\n",
      "============== propertylandusedesc ==============\n",
      "# Unique Vals: 13\n",
      "\n",
      "============== propertyzoningdesc ==============\n",
      "# Unique Vals: 1907\n",
      "\n",
      "============== rawcensustractandblock ==============\n",
      "# Unique Vals: 39194\n",
      "\n",
      "============== regionidcity ==============\n",
      "# Unique Vals: 175\n",
      "\n",
      "============== regionidcounty ==============\n",
      "# Unique Vals: 3\n",
      "1286.0    20593\n",
      "2061.0     6237\n",
      "3101.0    50550\n",
      "Name: regionidcounty, dtype: int64\n",
      "\n",
      "============== regionidneighborhood ==============\n",
      "# Unique Vals: 480\n",
      "\n",
      "============== roomcnt ==============\n",
      "# Unique Vals: 16\n",
      "(-0.016, 1.5]    59808\n",
      "(1.5, 3.0]         226\n",
      "(3.0, 4.5]        1415\n",
      "(4.5, 6.0]        7529\n",
      "(6.0, 7.5]        3838\n",
      "(7.5, 9.0]        4065\n",
      "(9.0, 10.5]        339\n",
      "(10.5, 12.0]       143\n",
      "(12.0, 13.5]        10\n",
      "(13.5, 15.0]         7\n",
      "Name: roomcnt, dtype: int64\n",
      "\n",
      "============== threequarterbathnbr ==============\n",
      "# Unique Vals: 4\n",
      "1.0    10012\n",
      "2.0       75\n",
      "3.0        8\n",
      "7.0        1\n",
      "NaN    67284\n",
      "Name: threequarterbathnbr, dtype: int64\n",
      "\n",
      "============== typeconstructiontypeid ==============\n",
      "# Unique Vals: 4\n",
      "4.0         1\n",
      "6.0       219\n",
      "10.0        1\n",
      "13.0        1\n",
      "NaN     77158\n",
      "Name: typeconstructiontypeid, dtype: int64\n",
      "\n",
      "============== typeconstructiondesc ==============\n",
      "# Unique Vals: 4\n",
      "Concrete        1\n",
      "Frame         219\n",
      "Masonry         1\n",
      "Metal           1\n",
      "NaN         77158\n",
      "Name: typeconstructiondesc, dtype: int64\n",
      "\n",
      "============== unitcnt ==============\n",
      "# Unique Vals: 8\n",
      "1.0      47292\n",
      "2.0       2018\n",
      "3.0        525\n",
      "4.0        723\n",
      "6.0          1\n",
      "42.0         1\n",
      "45.0         1\n",
      "237.0        1\n",
      "NaN      26818\n",
      "Name: unitcnt, dtype: int64\n",
      "\n",
      "============== yearbuilt ==============\n",
      "# Unique Vals: 136\n",
      "(1823.807, 1843.2]        1\n",
      "(1843.2, 1862.4]          0\n",
      "(1862.4, 1881.6]          3\n",
      "(1881.6, 1900.8]         90\n",
      "(1900.8, 1920.0]       1743\n",
      "(1920.0, 1939.2]       6688\n",
      "(1939.2, 1958.4]      18463\n",
      "(1958.4, 1977.6]      20354\n",
      "(1977.6, 1996.8]      19097\n",
      "(1996.8, 2016.0]      10678\n",
      "Name: yearbuilt, dtype: int64\n",
      "\n",
      "============== numberofstories ==============\n",
      "# Unique Vals: 4\n",
      "1.0    10366\n",
      "2.0     6757\n",
      "3.0      436\n",
      "6.0        1\n",
      "NaN    59820\n",
      "Name: numberofstories, dtype: int64\n",
      "\n",
      "============== structuretaxvaluedollarcnt ==============\n",
      "# Unique Vals: 50429\n",
      "\n",
      "============== taxvaluedollarcnt ==============\n",
      "# Unique Vals: 50948\n",
      "\n",
      "============== assessmentyear ==============\n",
      "# Unique Vals: 1\n",
      "2016.0    77380\n",
      "Name: assessmentyear, dtype: int64\n",
      "\n",
      "============== landtaxvaluedollarcnt ==============\n",
      "# Unique Vals: 51600\n",
      "\n",
      "============== taxamount ==============\n",
      "# Unique Vals: 73824\n",
      "\n",
      "============== censustractandblock ==============\n",
      "# Unique Vals: 39006\n",
      "\n",
      "============== logerror ==============\n",
      "# Unique Vals: 76836\n",
      "\n",
      "============== transactiondate ==============\n",
      "# Unique Vals: 264\n",
      "\n"
     ]
    }
   ],
   "source": [
    "overview(df)"
   ]
  },
  {
   "cell_type": "markdown",
   "id": "294c218f-2da5-4408-a609-cbd22dd7c2d1",
   "metadata": {},
   "source": [
    "#### Takeaways\n",
    "- not sure what roomcnt is and how it's different from bedrooms and bathrooms \n",
    "- three quarter bath seems redundant \n",
    "- most of the homes here are single family \n",
    "- there's someone who has a 14 car garage (maybe it's a quadruplex or something)\n",
    "- three houses have 5 fireplaces. Must be really cold there in Southern California\n",
    "- Date could be changed to a datetime object"
   ]
  },
  {
   "cell_type": "markdown",
   "id": "58c5cdcf-0ff2-48b0-914e-8bdee74142d5",
   "metadata": {},
   "source": [
    "### Taking a look at Nulls"
   ]
  },
  {
   "cell_type": "code",
   "execution_count": 17,
   "id": "3a0243eb-c540-4aa9-b070-cbb2e331b094",
   "metadata": {},
   "outputs": [
    {
     "name": "stdout",
     "output_type": "stream",
     "text": [
      "Your selected dataframe has 46 columns.\n",
      "There are 31 columns that have missing values.\n"
     ]
    },
    {
     "data": {
      "text/html": [
       "<div>\n",
       "<style scoped>\n",
       "    .dataframe tbody tr th:only-of-type {\n",
       "        vertical-align: middle;\n",
       "    }\n",
       "\n",
       "    .dataframe tbody tr th {\n",
       "        vertical-align: top;\n",
       "    }\n",
       "\n",
       "    .dataframe thead th {\n",
       "        text-align: right;\n",
       "    }\n",
       "</style>\n",
       "<table border=\"1\" class=\"dataframe\">\n",
       "  <thead>\n",
       "    <tr style=\"text-align: right;\">\n",
       "      <th></th>\n",
       "      <th>Missing Values</th>\n",
       "      <th>% of Total Values</th>\n",
       "    </tr>\n",
       "  </thead>\n",
       "  <tbody>\n",
       "    <tr>\n",
       "      <th>buildingclasstypeid</th>\n",
       "      <td>77365</td>\n",
       "      <td>100.0</td>\n",
       "    </tr>\n",
       "    <tr>\n",
       "      <th>buildingclassdesc</th>\n",
       "      <td>77365</td>\n",
       "      <td>100.0</td>\n",
       "    </tr>\n",
       "    <tr>\n",
       "      <th>fireplaceflag</th>\n",
       "      <td>77208</td>\n",
       "      <td>99.8</td>\n",
       "    </tr>\n",
       "    <tr>\n",
       "      <th>architecturalstyletypeid</th>\n",
       "      <td>77174</td>\n",
       "      <td>99.7</td>\n",
       "    </tr>\n",
       "    <tr>\n",
       "      <th>architecturalstyledesc</th>\n",
       "      <td>77174</td>\n",
       "      <td>99.7</td>\n",
       "    </tr>\n",
       "    <tr>\n",
       "      <th>typeconstructiondesc</th>\n",
       "      <td>77158</td>\n",
       "      <td>99.7</td>\n",
       "    </tr>\n",
       "    <tr>\n",
       "      <th>typeconstructiontypeid</th>\n",
       "      <td>77158</td>\n",
       "      <td>99.7</td>\n",
       "    </tr>\n",
       "    <tr>\n",
       "      <th>decktypeid</th>\n",
       "      <td>76766</td>\n",
       "      <td>99.2</td>\n",
       "    </tr>\n",
       "    <tr>\n",
       "      <th>poolsizesum</th>\n",
       "      <td>76513</td>\n",
       "      <td>98.9</td>\n",
       "    </tr>\n",
       "    <tr>\n",
       "      <th>hashottuborspa</th>\n",
       "      <td>75842</td>\n",
       "      <td>98.0</td>\n",
       "    </tr>\n",
       "    <tr>\n",
       "      <th>fireplacecnt</th>\n",
       "      <td>69104</td>\n",
       "      <td>89.3</td>\n",
       "    </tr>\n",
       "    <tr>\n",
       "      <th>threequarterbathnbr</th>\n",
       "      <td>67284</td>\n",
       "      <td>87.0</td>\n",
       "    </tr>\n",
       "    <tr>\n",
       "      <th>poolcnt</th>\n",
       "      <td>61243</td>\n",
       "      <td>79.1</td>\n",
       "    </tr>\n",
       "    <tr>\n",
       "      <th>numberofstories</th>\n",
       "      <td>59820</td>\n",
       "      <td>77.3</td>\n",
       "    </tr>\n",
       "    <tr>\n",
       "      <th>airconditioningdesc</th>\n",
       "      <td>52427</td>\n",
       "      <td>67.8</td>\n",
       "    </tr>\n",
       "    <tr>\n",
       "      <th>airconditioningtypeid</th>\n",
       "      <td>52427</td>\n",
       "      <td>67.8</td>\n",
       "    </tr>\n",
       "    <tr>\n",
       "      <th>garagetotalsqft</th>\n",
       "      <td>51906</td>\n",
       "      <td>67.1</td>\n",
       "    </tr>\n",
       "    <tr>\n",
       "      <th>garagecarcnt</th>\n",
       "      <td>51906</td>\n",
       "      <td>67.1</td>\n",
       "    </tr>\n",
       "    <tr>\n",
       "      <th>regionidneighborhood</th>\n",
       "      <td>46490</td>\n",
       "      <td>60.1</td>\n",
       "    </tr>\n",
       "    <tr>\n",
       "      <th>buildingqualitytypeid</th>\n",
       "      <td>27709</td>\n",
       "      <td>35.8</td>\n",
       "    </tr>\n",
       "    <tr>\n",
       "      <th>propertyzoningdesc</th>\n",
       "      <td>27050</td>\n",
       "      <td>35.0</td>\n",
       "    </tr>\n",
       "    <tr>\n",
       "      <th>unitcnt</th>\n",
       "      <td>26818</td>\n",
       "      <td>34.7</td>\n",
       "    </tr>\n",
       "    <tr>\n",
       "      <th>lotsizesquarefeet</th>\n",
       "      <td>8239</td>\n",
       "      <td>10.6</td>\n",
       "    </tr>\n",
       "    <tr>\n",
       "      <th>regionidcity</th>\n",
       "      <td>1471</td>\n",
       "      <td>1.9</td>\n",
       "    </tr>\n",
       "    <tr>\n",
       "      <th>yearbuilt</th>\n",
       "      <td>263</td>\n",
       "      <td>0.3</td>\n",
       "    </tr>\n",
       "    <tr>\n",
       "      <th>censustractandblock</th>\n",
       "      <td>244</td>\n",
       "      <td>0.3</td>\n",
       "    </tr>\n",
       "    <tr>\n",
       "      <th>calculatedfinishedsquarefeet</th>\n",
       "      <td>196</td>\n",
       "      <td>0.3</td>\n",
       "    </tr>\n",
       "    <tr>\n",
       "      <th>structuretaxvaluedollarcnt</th>\n",
       "      <td>112</td>\n",
       "      <td>0.1</td>\n",
       "    </tr>\n",
       "    <tr>\n",
       "      <th>taxamount</th>\n",
       "      <td>5</td>\n",
       "      <td>0.0</td>\n",
       "    </tr>\n",
       "    <tr>\n",
       "      <th>landtaxvaluedollarcnt</th>\n",
       "      <td>2</td>\n",
       "      <td>0.0</td>\n",
       "    </tr>\n",
       "    <tr>\n",
       "      <th>taxvaluedollarcnt</th>\n",
       "      <td>1</td>\n",
       "      <td>0.0</td>\n",
       "    </tr>\n",
       "  </tbody>\n",
       "</table>\n",
       "</div>"
      ],
      "text/plain": [
       "                              Missing Values  % of Total Values\n",
       "buildingclasstypeid                    77365              100.0\n",
       "buildingclassdesc                      77365              100.0\n",
       "fireplaceflag                          77208               99.8\n",
       "architecturalstyletypeid               77174               99.7\n",
       "architecturalstyledesc                 77174               99.7\n",
       "typeconstructiondesc                   77158               99.7\n",
       "typeconstructiontypeid                 77158               99.7\n",
       "decktypeid                             76766               99.2\n",
       "poolsizesum                            76513               98.9\n",
       "hashottuborspa                         75842               98.0\n",
       "fireplacecnt                           69104               89.3\n",
       "threequarterbathnbr                    67284               87.0\n",
       "poolcnt                                61243               79.1\n",
       "numberofstories                        59820               77.3\n",
       "airconditioningdesc                    52427               67.8\n",
       "airconditioningtypeid                  52427               67.8\n",
       "garagetotalsqft                        51906               67.1\n",
       "garagecarcnt                           51906               67.1\n",
       "regionidneighborhood                   46490               60.1\n",
       "buildingqualitytypeid                  27709               35.8\n",
       "propertyzoningdesc                     27050               35.0\n",
       "unitcnt                                26818               34.7\n",
       "lotsizesquarefeet                       8239               10.6\n",
       "regionidcity                            1471                1.9\n",
       "yearbuilt                                263                0.3\n",
       "censustractandblock                      244                0.3\n",
       "calculatedfinishedsquarefeet             196                0.3\n",
       "structuretaxvaluedollarcnt               112                0.1\n",
       "taxamount                                  5                0.0\n",
       "landtaxvaluedollarcnt                      2                0.0\n",
       "taxvaluedollarcnt                          1                0.0"
      ]
     },
     "execution_count": 17,
     "metadata": {},
     "output_type": "execute_result"
    }
   ],
   "source": [
    "missing_values_table(df)"
   ]
  },
  {
   "cell_type": "markdown",
   "id": "adf4239d-8f8b-47da-a574-65682295a858",
   "metadata": {},
   "source": [
    "#### Takeaways from NaNs\n",
    "- buildingclassdesc and buildingclasstypeid have too many missing, will drop\n",
    "- fireplaceflag seems to not have been used as much as fireplacecnt (drop fireplaceflag)\n",
    "- the architectural columns also don't have enough to go on, nothing to replace with\n",
    "- typeconstructiondesc and typeconstructiontypeid both don't have enough values (these are things like concrete, masonry)\n",
    "    - This could be interesting later down the road to classify luxury home\n",
    "- decktypeid, poolsizesum \n",
    "- numberofstories doesn't seem like something would be a driver of price \n",
    "\n",
    "Turned to 0s \n",
    "- hashottuborspa Nan's could be turned to 0s \n",
    "- fireplacecnt \n",
    "- garagecarcnt can have NaN's converted to 0s \n"
   ]
  },
  {
   "cell_type": "markdown",
   "id": "b1ce3612-8c49-45ff-aff3-5226218f9d51",
   "metadata": {},
   "source": [
    "###  Functions for Nulls "
   ]
  },
  {
   "cell_type": "code",
   "execution_count": 18,
   "id": "65d6d428-9421-4532-a73a-1bc02450820b",
   "metadata": {},
   "outputs": [],
   "source": [
    "def nulls_by_row(df):\n",
    "    '''\n",
    "    This function takes in a dataframe and returns a dataframe with an overview of how many rows have missing values\n",
    "    '''\n",
    "    num_missing = df.isnull().sum(axis=1)\n",
    "    prcnt_miss = round(num_missing / df.shape[1] * 100, 2)\n",
    "    rows_missing = pd.DataFrame({'num_cols_missing': num_missing, 'percent_cols_missing': prcnt_miss})\\\n",
    "    .reset_index()\\\n",
    "    .groupby(['num_cols_missing', 'percent_cols_missing']).count()\\\n",
    "    .rename(index=str, columns={'index': 'num_rows'}).reset_index()\n",
    "    return rows_missing\n"
   ]
  },
  {
   "cell_type": "code",
   "execution_count": 45,
   "id": "c8d8a0c4-969a-4a7a-934a-d498b66c972d",
   "metadata": {},
   "outputs": [
    {
     "data": {
      "text/html": [
       "<div>\n",
       "<style scoped>\n",
       "    .dataframe tbody tr th:only-of-type {\n",
       "        vertical-align: middle;\n",
       "    }\n",
       "\n",
       "    .dataframe tbody tr th {\n",
       "        vertical-align: top;\n",
       "    }\n",
       "\n",
       "    .dataframe thead th {\n",
       "        text-align: right;\n",
       "    }\n",
       "</style>\n",
       "<table border=\"1\" class=\"dataframe\">\n",
       "  <thead>\n",
       "    <tr style=\"text-align: right;\">\n",
       "      <th></th>\n",
       "      <th>num_cols_missing</th>\n",
       "      <th>percent_cols_missing</th>\n",
       "      <th>num_rows</th>\n",
       "    </tr>\n",
       "  </thead>\n",
       "  <tbody>\n",
       "    <tr>\n",
       "      <th>0</th>\n",
       "      <td>9</td>\n",
       "      <td>19.57</td>\n",
       "      <td>2</td>\n",
       "    </tr>\n",
       "    <tr>\n",
       "      <th>1</th>\n",
       "      <td>10</td>\n",
       "      <td>21.74</td>\n",
       "      <td>10</td>\n",
       "    </tr>\n",
       "    <tr>\n",
       "      <th>2</th>\n",
       "      <td>11</td>\n",
       "      <td>23.91</td>\n",
       "      <td>23</td>\n",
       "    </tr>\n",
       "    <tr>\n",
       "      <th>3</th>\n",
       "      <td>12</td>\n",
       "      <td>26.09</td>\n",
       "      <td>62</td>\n",
       "    </tr>\n",
       "    <tr>\n",
       "      <th>4</th>\n",
       "      <td>13</td>\n",
       "      <td>28.26</td>\n",
       "      <td>114</td>\n",
       "    </tr>\n",
       "    <tr>\n",
       "      <th>5</th>\n",
       "      <td>14</td>\n",
       "      <td>30.43</td>\n",
       "      <td>416</td>\n",
       "    </tr>\n",
       "    <tr>\n",
       "      <th>6</th>\n",
       "      <td>15</td>\n",
       "      <td>32.61</td>\n",
       "      <td>5577</td>\n",
       "    </tr>\n",
       "    <tr>\n",
       "      <th>7</th>\n",
       "      <td>16</td>\n",
       "      <td>34.78</td>\n",
       "      <td>10549</td>\n",
       "    </tr>\n",
       "    <tr>\n",
       "      <th>8</th>\n",
       "      <td>17</td>\n",
       "      <td>36.96</td>\n",
       "      <td>14385</td>\n",
       "    </tr>\n",
       "    <tr>\n",
       "      <th>9</th>\n",
       "      <td>18</td>\n",
       "      <td>39.13</td>\n",
       "      <td>21032</td>\n",
       "    </tr>\n",
       "    <tr>\n",
       "      <th>10</th>\n",
       "      <td>19</td>\n",
       "      <td>41.3</td>\n",
       "      <td>18022</td>\n",
       "    </tr>\n",
       "    <tr>\n",
       "      <th>11</th>\n",
       "      <td>20</td>\n",
       "      <td>43.48</td>\n",
       "      <td>4283</td>\n",
       "    </tr>\n",
       "    <tr>\n",
       "      <th>12</th>\n",
       "      <td>21</td>\n",
       "      <td>45.65</td>\n",
       "      <td>2110</td>\n",
       "    </tr>\n",
       "    <tr>\n",
       "      <th>13</th>\n",
       "      <td>22</td>\n",
       "      <td>47.83</td>\n",
       "      <td>438</td>\n",
       "    </tr>\n",
       "    <tr>\n",
       "      <th>14</th>\n",
       "      <td>23</td>\n",
       "      <td>50.0</td>\n",
       "      <td>211</td>\n",
       "    </tr>\n",
       "    <tr>\n",
       "      <th>15</th>\n",
       "      <td>24</td>\n",
       "      <td>52.17</td>\n",
       "      <td>84</td>\n",
       "    </tr>\n",
       "    <tr>\n",
       "      <th>16</th>\n",
       "      <td>25</td>\n",
       "      <td>54.35</td>\n",
       "      <td>50</td>\n",
       "    </tr>\n",
       "    <tr>\n",
       "      <th>17</th>\n",
       "      <td>26</td>\n",
       "      <td>56.52</td>\n",
       "      <td>9</td>\n",
       "    </tr>\n",
       "    <tr>\n",
       "      <th>18</th>\n",
       "      <td>27</td>\n",
       "      <td>58.7</td>\n",
       "      <td>2</td>\n",
       "    </tr>\n",
       "    <tr>\n",
       "      <th>19</th>\n",
       "      <td>28</td>\n",
       "      <td>60.87</td>\n",
       "      <td>1</td>\n",
       "    </tr>\n",
       "  </tbody>\n",
       "</table>\n",
       "</div>"
      ],
      "text/plain": [
       "   num_cols_missing percent_cols_missing  num_rows\n",
       "0                 9                19.57         2\n",
       "1                10                21.74        10\n",
       "2                11                23.91        23\n",
       "3                12                26.09        62\n",
       "4                13                28.26       114\n",
       "5                14                30.43       416\n",
       "6                15                32.61      5577\n",
       "7                16                34.78     10549\n",
       "8                17                36.96     14385\n",
       "9                18                39.13     21032\n",
       "10               19                 41.3     18022\n",
       "11               20                43.48      4283\n",
       "12               21                45.65      2110\n",
       "13               22                47.83       438\n",
       "14               23                 50.0       211\n",
       "15               24                52.17        84\n",
       "16               25                54.35        50\n",
       "17               26                56.52         9\n",
       "18               27                 58.7         2\n",
       "19               28                60.87         1"
      ]
     },
     "execution_count": 45,
     "metadata": {},
     "output_type": "execute_result"
    }
   ],
   "source": [
    "nulls_by_row(df)"
   ]
  },
  {
   "cell_type": "code",
   "execution_count": 20,
   "id": "488e9b3a-e344-437a-ac51-76503c57bb5b",
   "metadata": {},
   "outputs": [
    {
     "data": {
      "text/html": [
       "<div>\n",
       "<style scoped>\n",
       "    .dataframe tbody tr th:only-of-type {\n",
       "        vertical-align: middle;\n",
       "    }\n",
       "\n",
       "    .dataframe tbody tr th {\n",
       "        vertical-align: top;\n",
       "    }\n",
       "\n",
       "    .dataframe thead th {\n",
       "        text-align: right;\n",
       "    }\n",
       "</style>\n",
       "<table border=\"1\" class=\"dataframe\">\n",
       "  <thead>\n",
       "    <tr style=\"text-align: right;\">\n",
       "      <th></th>\n",
       "      <th>propertylandusedesc</th>\n",
       "    </tr>\n",
       "  </thead>\n",
       "  <tbody>\n",
       "    <tr>\n",
       "      <th>Single Family Residential</th>\n",
       "      <td>52319</td>\n",
       "    </tr>\n",
       "    <tr>\n",
       "      <th>Condominium</th>\n",
       "      <td>19294</td>\n",
       "    </tr>\n",
       "    <tr>\n",
       "      <th>Duplex (2 Units, Any Combination)</th>\n",
       "      <td>2009</td>\n",
       "    </tr>\n",
       "    <tr>\n",
       "      <th>Planned Unit Development</th>\n",
       "      <td>1944</td>\n",
       "    </tr>\n",
       "    <tr>\n",
       "      <th>Quadruplex (4 Units, Any Combination)</th>\n",
       "      <td>727</td>\n",
       "    </tr>\n",
       "    <tr>\n",
       "      <th>Triplex (3 Units, Any Combination)</th>\n",
       "      <td>535</td>\n",
       "    </tr>\n",
       "    <tr>\n",
       "      <th>Cluster Home</th>\n",
       "      <td>333</td>\n",
       "    </tr>\n",
       "    <tr>\n",
       "      <th>Mobile Home</th>\n",
       "      <td>74</td>\n",
       "    </tr>\n",
       "    <tr>\n",
       "      <th>Manufactured, Modular, Prefabricated Homes</th>\n",
       "      <td>58</td>\n",
       "    </tr>\n",
       "    <tr>\n",
       "      <th>Residential General</th>\n",
       "      <td>37</td>\n",
       "    </tr>\n",
       "    <tr>\n",
       "      <th>Cooperative</th>\n",
       "      <td>29</td>\n",
       "    </tr>\n",
       "    <tr>\n",
       "      <th>Commercial/Office/Residential Mixed Used</th>\n",
       "      <td>15</td>\n",
       "    </tr>\n",
       "    <tr>\n",
       "      <th>Townhouse</th>\n",
       "      <td>6</td>\n",
       "    </tr>\n",
       "  </tbody>\n",
       "</table>\n",
       "</div>"
      ],
      "text/plain": [
       "                                            propertylandusedesc\n",
       "Single Family Residential                                 52319\n",
       "Condominium                                               19294\n",
       "Duplex (2 Units, Any Combination)                          2009\n",
       "Planned Unit Development                                   1944\n",
       "Quadruplex (4 Units, Any Combination)                       727\n",
       "Triplex (3 Units, Any Combination)                          535\n",
       "Cluster Home                                                333\n",
       "Mobile Home                                                  74\n",
       "Manufactured, Modular, Prefabricated Homes                   58\n",
       "Residential General                                          37\n",
       "Cooperative                                                  29\n",
       "Commercial/Office/Residential Mixed Used                     15\n",
       "Townhouse                                                     6"
      ]
     },
     "execution_count": 20,
     "metadata": {},
     "output_type": "execute_result"
    }
   ],
   "source": [
    "# see what kind of property land use ids we have \n",
    "df.propertylandusedesc.value_counts(dropna = False).to_frame()"
   ]
  },
  {
   "cell_type": "code",
   "execution_count": 77,
   "id": "0567d830-4d85-45e4-8553-ea89fa4a71cd",
   "metadata": {},
   "outputs": [],
   "source": [
    "# put in wrangle module\n",
    "def single_homes(df):\n",
    "    '''\n",
    "    Function takes in zillow dataframe and outputs dataframe with only data for single unit homes.\n",
    "    Single unit home defined as any of the following \n",
    "    'Single Family Residential', 'Townhouse', 'Manufactured, Modular, Prefabricated Homes', 'Mobile Home'\n",
    "    Home must also have unit count of 1 or NaN\n",
    "    '''\n",
    "    # define single home descriptions\n",
    "    single_homes = ['Single Family Residential', 'Townhouse', 'Manufactured, Modular, Prefabricated Homes', 'Mobile Home']\n",
    "    \n",
    "    # If the property land use description is the in the single homes list keep it\n",
    "    df = df[df['propertylandusedesc'].isin(single_homes)]\n",
    "    \n",
    "    # create mask if unit count is 1 or NaN\n",
    "    unitcnt_mask = (df['unitcnt'] == 1) | (df['unitcnt'].isnull())\n",
    "    \n",
    "    # apply mask to dataframe\n",
    "    df = df[unitcnt_mask]\n",
    "    \n",
    "    return df\n",
    "    "
   ]
  },
  {
   "cell_type": "code",
   "execution_count": 78,
   "id": "958533fb-fd65-4eba-a2a4-19b7240d50c9",
   "metadata": {},
   "outputs": [
    {
     "data": {
      "text/plain": [
       "(52429, 46)"
      ]
     },
     "execution_count": 78,
     "metadata": {},
     "output_type": "execute_result"
    }
   ],
   "source": [
    "# after filtering for single family homes there are now 52,429 data points to look at\n",
    "df = single_homes(df)\n",
    "df.shape"
   ]
  },
  {
   "cell_type": "code",
   "execution_count": 83,
   "id": "2bc4b379-2fbd-4036-bb8f-3494a7be00b4",
   "metadata": {},
   "outputs": [],
   "source": [
    "# put in wrangle\n",
    "def drop_missing(df, min_col_percent= 0.65, min_row_percent = 0.85):\n",
    "    '''\n",
    "    This columns takes in a dataframe and outputs one with nulls dropped\n",
    "    The minimum col percent is how many null values you would like to have in your columns for them to stay\n",
    "    min_row_percent will be how many values must be not null in order to keep that row\n",
    "    '''\n",
    "    # calculate columns threshold (any columsn that have more nulls than this, dropped)\n",
    "    col_thresh = int(round(min_col_percent*df.shape[0]))\n",
    "    \n",
    "    # drop coulmns \n",
    "    df = df.dropna(axis=1, thresh=col_thresh)\n",
    "    \n",
    "    # calculate row threshold \n",
    "    row_thresh = int(round(min_row_percent * df.shape[1]))\n",
    "    \n",
    "    # drop rows\n",
    "    \n",
    "    df = df.dropna(axis=0, thresh=row_thresh)\n",
    "    \n",
    "    return df"
   ]
  },
  {
   "cell_type": "code",
   "execution_count": 84,
   "id": "5fc787d6-25fd-4b7a-a9d0-7f2bf5857aa9",
   "metadata": {},
   "outputs": [],
   "source": [
    "df_dropped = drop_missing(df)"
   ]
  },
  {
   "cell_type": "code",
   "execution_count": 85,
   "id": "7dc7aa7c-63ea-44b0-a643-f3abee05b01a",
   "metadata": {},
   "outputs": [
    {
     "data": {
      "text/plain": [
       "(52426, 24)"
      ]
     },
     "execution_count": 85,
     "metadata": {},
     "output_type": "execute_result"
    }
   ],
   "source": [
    "df_dropped.shape"
   ]
  },
  {
   "cell_type": "code",
   "execution_count": 86,
   "id": "149c09a1-1265-4d48-a587-f076186f0952",
   "metadata": {},
   "outputs": [
    {
     "name": "stdout",
     "output_type": "stream",
     "text": [
      "Your selected dataframe has 24 columns.\n",
      "There are 9 columns that have missing values.\n"
     ]
    },
    {
     "data": {
      "text/html": [
       "<div>\n",
       "<style scoped>\n",
       "    .dataframe tbody tr th:only-of-type {\n",
       "        vertical-align: middle;\n",
       "    }\n",
       "\n",
       "    .dataframe tbody tr th {\n",
       "        vertical-align: top;\n",
       "    }\n",
       "\n",
       "    .dataframe thead th {\n",
       "        text-align: right;\n",
       "    }\n",
       "</style>\n",
       "<table border=\"1\" class=\"dataframe\">\n",
       "  <thead>\n",
       "    <tr style=\"text-align: right;\">\n",
       "      <th></th>\n",
       "      <th>Missing Values</th>\n",
       "      <th>% of Total Values</th>\n",
       "    </tr>\n",
       "  </thead>\n",
       "  <tbody>\n",
       "    <tr>\n",
       "      <th>regionidcity</th>\n",
       "      <td>1033</td>\n",
       "      <td>2.0</td>\n",
       "    </tr>\n",
       "    <tr>\n",
       "      <th>lotsizesquarefeet</th>\n",
       "      <td>370</td>\n",
       "      <td>0.7</td>\n",
       "    </tr>\n",
       "    <tr>\n",
       "      <th>yearbuilt</th>\n",
       "      <td>130</td>\n",
       "      <td>0.2</td>\n",
       "    </tr>\n",
       "    <tr>\n",
       "      <th>censustractandblock</th>\n",
       "      <td>115</td>\n",
       "      <td>0.2</td>\n",
       "    </tr>\n",
       "    <tr>\n",
       "      <th>calculatedfinishedsquarefeet</th>\n",
       "      <td>98</td>\n",
       "      <td>0.2</td>\n",
       "    </tr>\n",
       "    <tr>\n",
       "      <th>structuretaxvaluedollarcnt</th>\n",
       "      <td>88</td>\n",
       "      <td>0.2</td>\n",
       "    </tr>\n",
       "    <tr>\n",
       "      <th>taxamount</th>\n",
       "      <td>4</td>\n",
       "      <td>0.0</td>\n",
       "    </tr>\n",
       "    <tr>\n",
       "      <th>landtaxvaluedollarcnt</th>\n",
       "      <td>2</td>\n",
       "      <td>0.0</td>\n",
       "    </tr>\n",
       "    <tr>\n",
       "      <th>taxvaluedollarcnt</th>\n",
       "      <td>1</td>\n",
       "      <td>0.0</td>\n",
       "    </tr>\n",
       "  </tbody>\n",
       "</table>\n",
       "</div>"
      ],
      "text/plain": [
       "                              Missing Values  % of Total Values\n",
       "regionidcity                            1033                2.0\n",
       "lotsizesquarefeet                        370                0.7\n",
       "yearbuilt                                130                0.2\n",
       "censustractandblock                      115                0.2\n",
       "calculatedfinishedsquarefeet              98                0.2\n",
       "structuretaxvaluedollarcnt                88                0.2\n",
       "taxamount                                  4                0.0\n",
       "landtaxvaluedollarcnt                      2                0.0\n",
       "taxvaluedollarcnt                          1                0.0"
      ]
     },
     "execution_count": 86,
     "metadata": {},
     "output_type": "execute_result"
    }
   ],
   "source": [
    "missing_values_table(df_dropped)"
   ]
  },
  {
   "cell_type": "markdown",
   "id": "ecb83e9c-c05e-41da-8c92-d88c5e398558",
   "metadata": {},
   "source": [
    "### Nan Takeaways\n",
    "- Before just outright dropping either more rows, I will dive into feature engineering and dropping outliers to see if this takes care of some of these still missing values\n",
    "- Then can impute or drop columns all together (I might not need yearbuilt, or regionidcity)\n",
    "- Right now have 52,426 houses to look at "
   ]
  },
  {
   "cell_type": "markdown",
   "id": "f674bde8-0b85-4287-acd2-6d75c837402a",
   "metadata": {},
   "source": [
    "## Feature Engineering \n",
    "- create age and yearbuilt bins\n",
    "- create `ppsqft` \n",
    "- create `county` column from `fips`\n",
    "- create `taxrate`"
   ]
  },
  {
   "cell_type": "code",
   "execution_count": 31,
   "id": "54d8d000-3191-4e77-853a-7e681a328807",
   "metadata": {},
   "outputs": [],
   "source": [
    "# create age column \n",
    "# subtract 2017 (year the house sold), from year built\n",
    "\n",
    "def get_house_age(df):\n",
    "    '''\n",
    "    This function takes in the Zillow dataframe, and uses the yearbuilt column\n",
    "    to create new column called 'age'. \n",
    "    Outputs dataframe with new 'age' column attched.\n",
    "    '''\n",
    "     \n",
    "    df['age'] = 2017 - df['yearbuilt']\n",
    "    \n",
    "    return df"
   ]
  },
  {
   "cell_type": "code",
   "execution_count": 91,
   "id": "0dab5304-6c39-4a08-822c-070d2b859216",
   "metadata": {},
   "outputs": [],
   "source": [
    "# use function on dataframe\n",
    "df = get_house_age(df_dropped)"
   ]
  },
  {
   "cell_type": "code",
   "execution_count": 35,
   "id": "3254955a-b159-41ac-9f48-258ab575c3ec",
   "metadata": {},
   "outputs": [],
   "source": [
    "# create age bins \n",
    "def yearbuilt_bins(df):\n",
    "    '''\n",
    "    Function takes in a dataframe, uses the 'yearbuilt' column to create age bins\n",
    "    pre 1978, 1978-2000, and post 2000 \n",
    "    '''\n",
    "    # set bin sizes\n",
    "    year_bins = [df['yearbuilt'].min(), 1978, 2000,df['yearbuilt'].max()]\n",
    "    \n",
    "    # use cut to assign bins using yearbuilt column\n",
    "    df['yearbuilt_bins'] = pd.cut(df['yearbuilt'], year_bins)\n",
    "    \n",
    "    return df"
   ]
  },
  {
   "cell_type": "code",
   "execution_count": 92,
   "id": "ee0ce0c5-0590-43e6-aefe-2a931b9500dc",
   "metadata": {},
   "outputs": [],
   "source": [
    "# use function to create bins\n",
    "df = yearbuilt_bins(df)"
   ]
  },
  {
   "cell_type": "code",
   "execution_count": 40,
   "id": "c80c9f23-9020-45eb-829e-ad824a0510a4",
   "metadata": {},
   "outputs": [],
   "source": [
    "def ppsqft(df):\n",
    "    '''\n",
    "    This function takes in a dataframe and uses the 'calculatedfinishedsquarefeet' and 'taxvaluedollarcnt' columns\n",
    "    to create new ppsqft column\n",
    "    '''\n",
    "    # create new column and do math\n",
    "    df['ppsqft'] = round(df['taxvaluedollarcnt'] / df['calculatedfinishedsquarefeet'], 2)\n",
    "    \n",
    "    return df"
   ]
  },
  {
   "cell_type": "code",
   "execution_count": 93,
   "id": "6a255899-280e-4a0c-a06d-19b1f07e1920",
   "metadata": {},
   "outputs": [],
   "source": [
    "df = ppsqft(df)"
   ]
  },
  {
   "cell_type": "code",
   "execution_count": 98,
   "id": "9a5352b4-f4a7-4fe1-9ef1-c9cb119db343",
   "metadata": {},
   "outputs": [],
   "source": [
    "def cali_counties(df):\n",
    "    '''\n",
    "    This function takes in the zillow dataframe, uses the fips column and a dictionary of counties\n",
    "    and adds a column called county with where the house is located\n",
    "    returns a dataframe with the column attached \n",
    "    '''\n",
    "    # make dictionary with fips values and county names\n",
    "    counties = {6037: 'LA', 6059: 'Orange', 6111: 'Ventura'}\n",
    "\n",
    "    # use .replace to create an new column called county\n",
    "    df['county'] = df.fips.replace(counties)\n",
    "\n",
    "    return df"
   ]
  },
  {
   "cell_type": "code",
   "execution_count": 99,
   "id": "156de1e3-7aad-47e6-82a8-fa91d71fb655",
   "metadata": {},
   "outputs": [],
   "source": [
    "df = cali_counties(df)"
   ]
  },
  {
   "cell_type": "code",
   "execution_count": 129,
   "id": "532bd339-b989-49a9-95a6-0b5626cee7aa",
   "metadata": {},
   "outputs": [],
   "source": [
    "def get_tax_rate(df):\n",
    "    '''\n",
    "    Function takes in dataframe and returns with tax_rate column attched\n",
    "    '''\n",
    "    df['tax_rate'] = round(df['taxamount'] / df['taxvaluedollarcnt'] * 100, 2)\n",
    "    \n",
    "    return df"
   ]
  },
  {
   "cell_type": "code",
   "execution_count": 130,
   "id": "0a1e084c-d623-4344-a6c8-667859dfedb2",
   "metadata": {},
   "outputs": [],
   "source": [
    "df = get_tax_rate(df)"
   ]
  },
  {
   "cell_type": "code",
   "execution_count": null,
   "id": "6bf42f5c-7f12-4f3f-b980-603982ade537",
   "metadata": {},
   "outputs": [],
   "source": []
  },
  {
   "cell_type": "markdown",
   "id": "dcf99ddd-b9b9-4267-afed-637897d4225b",
   "metadata": {},
   "source": [
    "## Explore to look for outliers and other useful things"
   ]
  },
  {
   "cell_type": "code",
   "execution_count": 131,
   "id": "8d3b2690-6bb6-4aff-90da-c6bbd77e61bb",
   "metadata": {},
   "outputs": [
    {
     "name": "stdout",
     "output_type": "stream",
     "text": [
      "<class 'pandas.core.frame.DataFrame'>\n",
      "Int64Index: 52426 entries, 0 to 77379\n",
      "Data columns (total 29 columns):\n",
      " #   Column                        Non-Null Count  Dtype   \n",
      "---  ------                        --------------  -----   \n",
      " 0   parcelid                      52426 non-null  int64   \n",
      " 1   bathroomcnt                   52426 non-null  float64 \n",
      " 2   bedroomcnt                    52426 non-null  float64 \n",
      " 3   calculatedfinishedsquarefeet  52328 non-null  float64 \n",
      " 4   fips                          52426 non-null  float64 \n",
      " 5   latitude                      52426 non-null  float64 \n",
      " 6   longitude                     52426 non-null  float64 \n",
      " 7   lotsizesquarefeet             52056 non-null  float64 \n",
      " 8   propertycountylandusecode     52426 non-null  object  \n",
      " 9   propertylandusetypeid         52426 non-null  float64 \n",
      " 10  propertylandusedesc           52426 non-null  object  \n",
      " 11  rawcensustractandblock        52426 non-null  float64 \n",
      " 12  regionidcity                  51393 non-null  float64 \n",
      " 13  regionidcounty                52426 non-null  float64 \n",
      " 14  roomcnt                       52426 non-null  float64 \n",
      " 15  yearbuilt                     52296 non-null  float64 \n",
      " 16  structuretaxvaluedollarcnt    52338 non-null  float64 \n",
      " 17  taxvaluedollarcnt             52425 non-null  float64 \n",
      " 18  assessmentyear                52426 non-null  float64 \n",
      " 19  landtaxvaluedollarcnt         52424 non-null  float64 \n",
      " 20  taxamount                     52422 non-null  float64 \n",
      " 21  censustractandblock           52311 non-null  float64 \n",
      " 22  logerror                      52426 non-null  float64 \n",
      " 23  transactiondate               52426 non-null  object  \n",
      " 24  age                           52296 non-null  float64 \n",
      " 25  yearbuilt_bins                52295 non-null  category\n",
      " 26  ppsqft                        52327 non-null  float64 \n",
      " 27  county                        52426 non-null  object  \n",
      " 28  tax_rate                      52421 non-null  float64 \n",
      "dtypes: category(1), float64(23), int64(1), object(4)\n",
      "memory usage: 11.6+ MB\n"
     ]
    }
   ],
   "source": [
    "df.info()"
   ]
  },
  {
   "cell_type": "code",
   "execution_count": 121,
   "id": "185e90e6-9d14-4b19-96bc-2f20e2790d5d",
   "metadata": {},
   "outputs": [],
   "source": [
    "# put in explore module\n",
    "def plot_variable_dist(df, figsize = (3,2)):\n",
    "    '''\n",
    "    This function is for exploring. Takes in a dataframe with variables you would like to see the distribution of.\n",
    "    Input the dataframe (either fully, or using .drop) with ONLY the columns you want to see plotted. \n",
    "    Optional argument figsize. Default it's small. \n",
    "    BTW if you just put list(df) it pulls out only the column names\n",
    "    '''\n",
    "    # loop through columns and use seaborn to plot distributions\n",
    "    for col in list(df):\n",
    "            plt.figure(figsize=figsize)\n",
    "            plt.hist(data = df, x = col)\n",
    "            plt.title(f'Distribution of {col}')\n",
    "            plt.show()\n",
    "            print(f'Number of Nulls: {df[col].isnull().sum()}')"
   ]
  },
  {
   "cell_type": "code",
   "execution_count": null,
   "id": "2016bb44-36d1-4a59-927f-3a6f318285df",
   "metadata": {},
   "outputs": [],
   "source": []
  },
  {
   "cell_type": "markdown",
   "id": "fc09edc7-fb86-4d9b-9e94-1bc77b3cb23d",
   "metadata": {},
   "source": [
    "###  Takeaways from distributions\n",
    "- `regionidcounty` seems to be the same as `fips`, drop it because it's missing values\n",
    "- yearbuilt can impute missing values with median or mean"
   ]
  },
  {
   "cell_type": "code",
   "execution_count": 122,
   "id": "c3118716-6371-4a20-a68a-42a924204f5e",
   "metadata": {},
   "outputs": [],
   "source": [
    "def plot_boxes(df, figsize = (4,2)):\n",
    "    '''\n",
    "    This function is for exploring. Takes in a dataframe with variables you would like to see the box plot of.\n",
    "    Input the dataframe (either fully, or using .drop) with ONLY the columns you want to see plotted.\n",
    "    Will skip over object columns automatically.\n",
    "    Optional arguement figsize. Default it's small.    \n",
    "    '''\n",
    "\n",
    "    for col in list(df):\n",
    "        if df[col].dtypes != object: \n",
    "            plt.figure(figsize=figsize)\n",
    "            sns.boxplot(data = df, x = col)\n",
    "            plt.title(f'Box Plot of {col}')\n",
    "            plt.show()\n",
    "        else:\n",
    "            print(f'{col} is an object type')"
   ]
  },
  {
   "cell_type": "code",
   "execution_count": 133,
   "id": "4e88bb44-3e16-4e97-9b6a-bbafcb30c1fc",
   "metadata": {},
   "outputs": [
    {
     "data": {
      "image/png": "[encoded data removed]",
      "text/plain": [
       "<Figure size 576x216 with 1 Axes>"
      ]
     },
     "metadata": {
      "needs_background": "light"
     },
     "output_type": "display_data"
    },
    {
     "data": {
      "image/png": "[encoded data removed]",
      "text/plain": [
       "<Figure size 576x216 with 1 Axes>"
      ]
     },
     "metadata": {
      "needs_background": "light"
     },
     "output_type": "display_data"
    },
    {
     "data": {
      "image/png": "[encoded data removed]",
      "text/plain": [
       "<Figure size 576x216 with 1 Axes>"
      ]
     },
     "metadata": {
      "needs_background": "light"
     },
     "output_type": "display_data"
    },
    {
     "data": {
      "image/png": "[encoded data removed]",
      "text/plain": [
       "<Figure size 576x216 with 1 Axes>"
      ]
     },
     "metadata": {
      "needs_background": "light"
     },
     "output_type": "display_data"
    },
    {
     "data": {
      "image/png": "[encoded data removed]",
      "text/plain": [
       "<Figure size 576x216 with 1 Axes>"
      ]
     },
     "metadata": {
      "needs_background": "light"
     },
     "output_type": "display_data"
    },
    {
     "data": {
      "image/png": "[encoded data removed]",
      "text/plain": [
       "<Figure size 576x216 with 1 Axes>"
      ]
     },
     "metadata": {
      "needs_background": "light"
     },
     "output_type": "display_data"
    },
    {
     "data": {
      "image/png": "[encoded data removed]",
      "text/plain": [
       "<Figure size 576x216 with 1 Axes>"
      ]
     },
     "metadata": {
      "needs_background": "light"
     },
     "output_type": "display_data"
    },
    {
     "name": "stdout",
     "output_type": "stream",
     "text": [
      "propertycountylandusecode is an object type\n"
     ]
    },
    {
     "data": {
      "image/png": "[encoded data removed]",
      "text/plain": [
       "<Figure size 576x216 with 1 Axes>"
      ]
     },
     "metadata": {
      "needs_background": "light"
     },
     "output_type": "display_data"
    },
    {
     "name": "stdout",
     "output_type": "stream",
     "text": [
      "propertylandusedesc is an object type\n"
     ]
    },
    {
     "data": {
      "image/png": "[encoded data removed]",
      "text/plain": [
       "<Figure size 576x216 with 1 Axes>"
      ]
     },
     "metadata": {
      "needs_background": "light"
     },
     "output_type": "display_data"
    },
    {
     "data": {
      "image/png": "[encoded data removed]",
      "text/plain": [
       "<Figure size 576x216 with 1 Axes>"
      ]
     },
     "metadata": {
      "needs_background": "light"
     },
     "output_type": "display_data"
    },
    {
     "data": {
      "image/png": "[encoded data removed]",
      "text/plain": [
       "<Figure size 576x216 with 1 Axes>"
      ]
     },
     "metadata": {
      "needs_background": "light"
     },
     "output_type": "display_data"
    },
    {
     "data": {
      "image/png": "[encoded data removed]",
      "text/plain": [
       "<Figure size 576x216 with 1 Axes>"
      ]
     },
     "metadata": {
      "needs_background": "light"
     },
     "output_type": "display_data"
    },
    {
     "data": {
      "image/png": "[encoded data removed]",
      "text/plain": [
       "<Figure size 576x216 with 1 Axes>"
      ]
     },
     "metadata": {
      "needs_background": "light"
     },
     "output_type": "display_data"
    },
    {
     "data": {
      "image/png": "[encoded data removed]",
      "text/plain": [
       "<Figure size 576x216 with 1 Axes>"
      ]
     },
     "metadata": {
      "needs_background": "light"
     },
     "output_type": "display_data"
    },
    {
     "data": {
      "image/png": "[encoded data removed]",
      "text/plain": [
       "<Figure size 576x216 with 1 Axes>"
      ]
     },
     "metadata": {
      "needs_background": "light"
     },
     "output_type": "display_data"
    },
    {
     "data": {
      "image/png": "[encoded data removed]",
      "text/plain": [
       "<Figure size 576x216 with 1 Axes>"
      ]
     },
     "metadata": {
      "needs_background": "light"
     },
     "output_type": "display_data"
    },
    {
     "data": {
      "image/png": "[encoded data removed]",
      "text/plain": [
       "<Figure size 576x216 with 1 Axes>"
      ]
     },
     "metadata": {
      "needs_background": "light"
     },
     "output_type": "display_data"
    },
    {
     "data": {
      "image/png": "[encoded data removed]",
      "text/plain": [
       "<Figure size 576x216 with 1 Axes>"
      ]
     },
     "metadata": {
      "needs_background": "light"
     },
     "output_type": "display_data"
    },
    {
     "data": {
      "image/png": "[encoded data removed]",
      "text/plain": [
       "<Figure size 576x216 with 1 Axes>"
      ]
     },
     "metadata": {
      "needs_background": "light"
     },
     "output_type": "display_data"
    },
    {
     "data": {
      "image/png": "[encoded data removed]",
      "text/plain": [
       "<Figure size 576x216 with 1 Axes>"
      ]
     },
     "metadata": {
      "needs_background": "light"
     },
     "output_type": "display_data"
    },
    {
     "name": "stdout",
     "output_type": "stream",
     "text": [
      "transactiondate is an object type\n"
     ]
    },
    {
     "data": {
      "image/png": "[encoded data removed]",
      "text/plain": [
       "<Figure size 576x216 with 1 Axes>"
      ]
     },
     "metadata": {
      "needs_background": "light"
     },
     "output_type": "display_data"
    },
    {
     "data": {
      "image/png": "[encoded data removed]",
      "text/plain": [
       "<Figure size 576x216 with 1 Axes>"
      ]
     },
     "metadata": {
      "needs_background": "light"
     },
     "output_type": "display_data"
    },
    {
     "name": "stdout",
     "output_type": "stream",
     "text": [
      "county is an object type\n"
     ]
    },
    {
     "data": {
      "image/png": "[encoded data removed]",
      "text/plain": [
       "<Figure size 576x216 with 1 Axes>"
      ]
     },
     "metadata": {
      "needs_background": "light"
     },
     "output_type": "display_data"
    }
   ],
   "source": [
    "plot_boxes(df.drop(columns = ['parcelid', 'yearbuilt_bins']), figsize = (8,3))"
   ]
  },
  {
   "cell_type": "markdown",
   "id": "668c2e9d-c6be-474b-ab9b-5f5ae782f779",
   "metadata": {},
   "source": [
    "### Takeaways and what to do with outliers\n",
    "- There's a lot of homes on the upper end (i.e. really expensive, really large, lots of bedrooms, lots of bathrooms) \n",
    "- Will drop outliers \n",
    "- who has a tax rate of 80% \n",
    "- Drop everyone with a weird tax rate, bedroomcnt must be between 1 and 7, bathroomcnt must be between 1 and 6 \n",
    "- then add everyone with a calculatedfinishedsquarefeet above 3 standard deviations and taxamount"
   ]
  },
  {
   "cell_type": "code",
   "execution_count": 167,
   "id": "b00d1203-5d51-412b-91d9-91f76de97b36",
   "metadata": {},
   "outputs": [],
   "source": [
    "def remove_outlier_z(df, z = 3, col_list):\n",
    "    '''\n",
    "    This function takes in a dataframe\n",
    "    It outputs a the dataframe with the outliers that have a Z score above 3 or below -3 removed\n",
    "    Can change z score with z =. default is 3\n",
    "    '''\n",
    "    for col in col_list:\n",
    "        \n",
    "        df = df[(np.abs(stats.zscore(df)) < z).all(axis=1)]\n",
    "        \n",
    "    return df"
   ]
  },
  {
   "cell_type": "code",
   "execution_count": 169,
   "id": "0627b535-1cff-4715-a9d1-7a3ee0748eb7",
   "metadata": {},
   "outputs": [],
   "source": [
    "def remove_outliers(df, k, col_list):\n",
    "    '''\n",
    "    This function takes in a dataframe, k value, and column list and \n",
    "    k = number times interquartile range you would like to remove\n",
    "    col_list = names of columns you want outliers removed from\n",
    "    removes outliers from a list of columns in a dataframe \n",
    "    and return that dataframe\n",
    "    '''\n",
    "    \n",
    "    for col in col_list:\n",
    "\n",
    "        q1, q3 = df[f'{col}'].quantile([.25, .75])  # get quartiles\n",
    "        \n",
    "        iqr = q3 - q1   # calculate interquartile range\n",
    "        \n",
    "        upper_bound = q3 + k * iqr   # get upper bound\n",
    "        lower_bound = q1 - k * iqr   # get lower bound\n",
    "\n",
    "        # return dataframe without outliers\n",
    "        \n",
    "        df = df[(df[f'{col}'] > lower_bound) & (df[f'{col}'] < upper_bound)]\n",
    "        \n",
    "    return df"
   ]
  },
  {
   "cell_type": "code",
   "execution_count": 226,
   "id": "8cfc9210-cd61-425c-99ea-5f6be38f3991",
   "metadata": {},
   "outputs": [],
   "source": [
    "def drop_zillow_outliers(df):\n",
    "    '''\n",
    "    '''\n",
    "    \n",
    "    return df[((df.bathroomcnt <= 6) & (df.bathroomcnt > 0) & \n",
    "        (df.bedroomcnt <= 7) & (df.bedroomcnt > 0) & \n",
    "        (df.tax_rate < 15))]"
   ]
  },
  {
   "cell_type": "code",
   "execution_count": 227,
   "id": "f035587e-b1d5-4fa8-9fe2-0f0391ed1116",
   "metadata": {},
   "outputs": [
    {
     "data": {
      "text/plain": [
       "(52426, 29)"
      ]
     },
     "execution_count": 227,
     "metadata": {},
     "output_type": "execute_result"
    }
   ],
   "source": [
    "df.shape"
   ]
  },
  {
   "cell_type": "code",
   "execution_count": 235,
   "id": "46f3b3e7-e9c1-4828-9f42-8eb7d2153709",
   "metadata": {},
   "outputs": [],
   "source": [
    "df2 = drop_zillow_outliers(df)"
   ]
  },
  {
   "cell_type": "code",
   "execution_count": 236,
   "id": "39b1e794-ce8a-4171-a098-998e1683dccc",
   "metadata": {},
   "outputs": [
    {
     "data": {
      "text/plain": [
       "(51983, 29)"
      ]
     },
     "execution_count": 236,
     "metadata": {},
     "output_type": "execute_result"
    }
   ],
   "source": [
    "df2.shape"
   ]
  },
  {
   "cell_type": "code",
   "execution_count": 237,
   "id": "296add8c-4087-4149-986e-120cc4e817f5",
   "metadata": {},
   "outputs": [],
   "source": [
    "col_list = ['calculatedfinishedsquarefeet', 'taxamount']\n",
    "\n",
    "df2 = remove_outliers(df2, 3, col_list)"
   ]
  },
  {
   "cell_type": "code",
   "execution_count": 238,
   "id": "9dd78b98-1d2f-4c53-9c46-5e440adb73ec",
   "metadata": {},
   "outputs": [
    {
     "data": {
      "text/plain": [
       "(50265, 29)"
      ]
     },
     "execution_count": 238,
     "metadata": {},
     "output_type": "execute_result"
    }
   ],
   "source": [
    "df2.shape"
   ]
  },
  {
   "cell_type": "code",
   "execution_count": 239,
   "id": "10f2ff0e-506c-43be-9437-a164a6902c8c",
   "metadata": {},
   "outputs": [
    {
     "name": "stdout",
     "output_type": "stream",
     "text": [
      "Your selected dataframe has 29 columns.\n",
      "There are 7 columns that have missing values.\n"
     ]
    },
    {
     "data": {
      "text/html": [
       "<div>\n",
       "<style scoped>\n",
       "    .dataframe tbody tr th:only-of-type {\n",
       "        vertical-align: middle;\n",
       "    }\n",
       "\n",
       "    .dataframe tbody tr th {\n",
       "        vertical-align: top;\n",
       "    }\n",
       "\n",
       "    .dataframe thead th {\n",
       "        text-align: right;\n",
       "    }\n",
       "</style>\n",
       "<table border=\"1\" class=\"dataframe\">\n",
       "  <thead>\n",
       "    <tr style=\"text-align: right;\">\n",
       "      <th></th>\n",
       "      <th>Missing Values</th>\n",
       "      <th>% of Total Values</th>\n",
       "    </tr>\n",
       "  </thead>\n",
       "  <tbody>\n",
       "    <tr>\n",
       "      <th>regionidcity</th>\n",
       "      <td>1001</td>\n",
       "      <td>2.0</td>\n",
       "    </tr>\n",
       "    <tr>\n",
       "      <th>lotsizesquarefeet</th>\n",
       "      <td>320</td>\n",
       "      <td>0.6</td>\n",
       "    </tr>\n",
       "    <tr>\n",
       "      <th>censustractandblock</th>\n",
       "      <td>98</td>\n",
       "      <td>0.2</td>\n",
       "    </tr>\n",
       "    <tr>\n",
       "      <th>structuretaxvaluedollarcnt</th>\n",
       "      <td>51</td>\n",
       "      <td>0.1</td>\n",
       "    </tr>\n",
       "    <tr>\n",
       "      <th>yearbuilt_bins</th>\n",
       "      <td>32</td>\n",
       "      <td>0.1</td>\n",
       "    </tr>\n",
       "    <tr>\n",
       "      <th>yearbuilt</th>\n",
       "      <td>31</td>\n",
       "      <td>0.1</td>\n",
       "    </tr>\n",
       "    <tr>\n",
       "      <th>age</th>\n",
       "      <td>31</td>\n",
       "      <td>0.1</td>\n",
       "    </tr>\n",
       "  </tbody>\n",
       "</table>\n",
       "</div>"
      ],
      "text/plain": [
       "                            Missing Values  % of Total Values\n",
       "regionidcity                          1001                2.0\n",
       "lotsizesquarefeet                      320                0.6\n",
       "censustractandblock                     98                0.2\n",
       "structuretaxvaluedollarcnt              51                0.1\n",
       "yearbuilt_bins                          32                0.1\n",
       "yearbuilt                               31                0.1\n",
       "age                                     31                0.1"
      ]
     },
     "execution_count": 239,
     "metadata": {},
     "output_type": "execute_result"
    }
   ],
   "source": [
    "missing_values_table(df2)"
   ]
  },
  {
   "cell_type": "code",
   "execution_count": 247,
   "id": "a7a3899b-689d-454c-a306-948ee1e30705",
   "metadata": {},
   "outputs": [],
   "source": [
    "def drop_unneeded_cols(df, unneeded_cols = ['lotsizesquarefeet', 'regionidcity']):\n",
    "    '''\n",
    "    This function takes in a dataframe and a list of unneeded columns (default is for zillow data)\n",
    "    Returns dataframe with those columns dropped\n",
    "    '''\n",
    "    df = df.drop(columns = unneeded_cols)\n",
    "    \n",
    "    return df"
   ]
  },
  {
   "cell_type": "code",
   "execution_count": 248,
   "id": "22edc004-22c6-4d04-ab3b-4f4e98775b97",
   "metadata": {},
   "outputs": [],
   "source": [
    "def drop_rows_low_percent(df):\n",
    "    '''\n",
    "    Finds columns with missing values less than 1 percent. Drops all rows with missing values in those rows.\n",
    "    '''\n",
    "    \n",
    "    has_percent_below_one = ((df.isnull().sum() / df.shape[0]) < .01)\n",
    "    \n",
    "    one_percenters = list(has_percent_below_one[has_percent_below_one == True].index)\n",
    "    \n",
    "    df = df.dropna(axis=0, subset=one_percenters)\n",
    "    \n",
    "    return df"
   ]
  },
  {
   "cell_type": "code",
   "execution_count": 249,
   "id": "a16c1b80-2a20-4a16-bf2f-c1a587ac8a8b",
   "metadata": {},
   "outputs": [],
   "source": [
    "df2 = drop_unneeded_cols(df2)"
   ]
  },
  {
   "cell_type": "code",
   "execution_count": 250,
   "id": "1e7e295a-9cd6-43dd-9f8d-250f03a2aed5",
   "metadata": {},
   "outputs": [],
   "source": [
    "df2 = drop_rows_low_percent(df2)"
   ]
  },
  {
   "cell_type": "code",
   "execution_count": 251,
   "id": "f3e45c1c-2427-45e4-bb4f-a03177c96091",
   "metadata": {},
   "outputs": [
    {
     "name": "stdout",
     "output_type": "stream",
     "text": [
      "Your selected dataframe has 27 columns.\n",
      "There are 0 columns that have missing values.\n"
     ]
    },
    {
     "data": {
      "text/html": [
       "<div>\n",
       "<style scoped>\n",
       "    .dataframe tbody tr th:only-of-type {\n",
       "        vertical-align: middle;\n",
       "    }\n",
       "\n",
       "    .dataframe tbody tr th {\n",
       "        vertical-align: top;\n",
       "    }\n",
       "\n",
       "    .dataframe thead th {\n",
       "        text-align: right;\n",
       "    }\n",
       "</style>\n",
       "<table border=\"1\" class=\"dataframe\">\n",
       "  <thead>\n",
       "    <tr style=\"text-align: right;\">\n",
       "      <th></th>\n",
       "      <th>Missing Values</th>\n",
       "      <th>% of Total Values</th>\n",
       "    </tr>\n",
       "  </thead>\n",
       "  <tbody>\n",
       "  </tbody>\n",
       "</table>\n",
       "</div>"
      ],
      "text/plain": [
       "Empty DataFrame\n",
       "Columns: [Missing Values, % of Total Values]\n",
       "Index: []"
      ]
     },
     "execution_count": 251,
     "metadata": {},
     "output_type": "execute_result"
    }
   ],
   "source": [
    "missing_values_table(df2)"
   ]
  },
  {
   "cell_type": "code",
   "execution_count": null,
   "id": "8977aa55-17aa-4329-9896-b2f74f1765ce",
   "metadata": {},
   "outputs": [],
   "source": []
  }
 ],
 "metadata": {
  "kernelspec": {
   "display_name": "Python 3",
   "language": "python",
   "name": "python3"
  },
  "language_info": {
   "codemirror_mode": {
    "name": "ipython",
    "version": 3
   },
   "file_extension": ".py",
   "mimetype": "text/x-python",
   "name": "python",
   "nbconvert_exporter": "python",
   "pygments_lexer": "ipython3",
   "version": "3.8.5"
  }
 },
 "nbformat": 4,
 "nbformat_minor": 5
}
